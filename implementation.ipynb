{
  "nbformat": 4,
  "nbformat_minor": 0,
  "metadata": {
    "colab": {
      "name": "implementation.ipynb",
      "provenance": [],
      "collapsed_sections": [],
      "machine_shape": "hm"
    },
    "kernelspec": {
      "name": "python3",
      "display_name": "Python 3"
    },
    "accelerator": "GPU"
  },
  "cells": [
    {
      "cell_type": "code",
      "metadata": {
        "id": "ZDIld63drsa0",
        "colab_type": "code",
        "colab": {}
      },
      "source": [
        "!pip install -U -q PyDrive\n",
        "from pydrive.auth import GoogleAuth\n",
        "from pydrive.drive import GoogleDrive\n",
        "from google.colab import auth\n",
        "from oauth2client.client import GoogleCredentials"
      ],
      "execution_count": null,
      "outputs": []
    },
    {
      "cell_type": "code",
      "metadata": {
        "id": "McVo3Q0lrxR0",
        "colab_type": "code",
        "colab": {}
      },
      "source": [
        "auth.authenticate_user()\n",
        "gauth = GoogleAuth()\n",
        "gauth.credentials = GoogleCredentials.get_application_default()\n",
        "drive = GoogleDrive(gauth)"
      ],
      "execution_count": null,
      "outputs": []
    },
    {
      "cell_type": "code",
      "metadata": {
        "id": "2H6Xfj8UrzZ7",
        "colab_type": "code",
        "colab": {
          "base_uri": "https://localhost:8080/",
          "height": 34
        },
        "outputId": "ef3332b2-f110-4334-b7bf-f647825ba348"
      },
      "source": [
        "link = 'https://drive.google.com/open?id=13FWvDchGTaBOVoni491PGxPdLF9vEelU'\n",
        "fluff, id = link.split('=')\n",
        "print (id)\n",
        "downloaded = drive.CreateFile({'id':id}) \n",
        "downloaded.GetContentFile('clean_dataset_final.csv')  "
      ],
      "execution_count": null,
      "outputs": [
        {
          "output_type": "stream",
          "text": [
            "13FWvDchGTaBOVoni491PGxPdLF9vEelU\n"
          ],
          "name": "stdout"
        }
      ]
    },
    {
      "cell_type": "code",
      "metadata": {
        "id": "V4WAMp6qsbOj",
        "colab_type": "code",
        "colab": {
          "base_uri": "https://localhost:8080/",
          "height": 481
        },
        "outputId": "cfa2efca-898d-4527-d3bc-bfa3c1ad5683"
      },
      "source": [
        "import pandas as pd\n",
        "fields = ['Product', 'Narrative']\n",
        "data = pd.read_csv('clean_dataset_final.csv', usecols=fields)\n",
        "pd.set_option('max_colwidth', 1000)\n",
        "data.head()"
      ],
      "execution_count": null,
      "outputs": [
        {
          "output_type": "execute_result",
          "data": {
            "text/html": [
              "<div>\n",
              "<style scoped>\n",
              "    .dataframe tbody tr th:only-of-type {\n",
              "        vertical-align: middle;\n",
              "    }\n",
              "\n",
              "    .dataframe tbody tr th {\n",
              "        vertical-align: top;\n",
              "    }\n",
              "\n",
              "    .dataframe thead th {\n",
              "        text-align: right;\n",
              "    }\n",
              "</style>\n",
              "<table border=\"1\" class=\"dataframe\">\n",
              "  <thead>\n",
              "    <tr style=\"text-align: right;\">\n",
              "      <th></th>\n",
              "      <th>Product</th>\n",
              "      <th>Narrative</th>\n",
              "    </tr>\n",
              "  </thead>\n",
              "  <tbody>\n",
              "    <tr>\n",
              "      <th>0</th>\n",
              "      <td>Consumer Loan</td>\n",
              "      <td>i purchased a new car on  . the car dealer called citizens bank to get a 10 day payoff on my loan, good till  . the dealer sent the check the next day. when i balanced my checkbook on  . i noticed that citizens bank had taken the automatic payment out of my checking account at    bank. i called citizens and they stated that they did not close the loan until  . ( stating that they did not receive the check until . . ). i told them that i did not believe that the check took that long to arrive.  told me a check was issued to me for the amount overpaid, they deducted additional interest. today (  , ) i called citizens bank again and talked to a supervisor named , because on  . i received a letter that the loan had been paid in full ( dated ,  ) but no refund check was included.  stated that they hold any over payment for 10 business days after the loan was satisfied and that my check would be mailed out on wed. the .. i questioned her about the delay in posting the dealer payment and ...</td>\n",
              "    </tr>\n",
              "    <tr>\n",
              "      <th>1</th>\n",
              "      <td>Mortgage</td>\n",
              "      <td>started the refinance of home mortgage process with cash out option on 2016. necessary documents were submitted by . after initial review, got good faith estimate with loan amount and closing cost. based on this estimate, a deposit of  was made towards appraisal. appraisal came with lesser amount by . agreed to reduce the loan amount to that extent. however, got a revised estimate which was less by  and with additional closing cost towards points etc. in between got numerous revised estimates with different loan amounts and closing cost. it took more than 2 months to reach any definite closing document. hence, want to get back the deposit of .</td>\n",
              "    </tr>\n",
              "    <tr>\n",
              "      <th>2</th>\n",
              "      <td>Credit card</td>\n",
              "      <td>was a happy  card member for years, in late 2016  converted the card portfolio to barclaycard (  ). we almost never carry a balance over, but we started to in  and barclay has been overcharging the interest expense every month. instead of charging interest on the carried balance they charged it on the entire average balance. so if we charged  last month and carried  from previous months then they charged us 15 % of the  = , should have been  in interest charges. they are double dipping, getting the interchange fee ( 1.5 % of purchase, equal to an 18 % apr ), plus they are getting the interest on the purchases at 15 %, that is the equivalent of an 33 % interest charge. \\ni feel this practice is very unethical, if not illegal. we converted, not by our choice, from  to barclaycard mastercard, so if we leave we lose all the points we acquired in previous years. completely unfair and is why the big financials have the hated reputation they have now. hope you folks over there can investi...</td>\n",
              "    </tr>\n",
              "    <tr>\n",
              "      <th>3</th>\n",
              "      <td>Credit card</td>\n",
              "      <td>without provocation, i received notice that my credit line was being decreased by nearly 100 %. my available credit was reduced from $  to  ( the rough amount of my available balance ). \\n\\nwhen i called to question the change, i was provided a nob-descript response referencing my  report. it was my understanding that under the fcra i was entitled to a copy of this report, but was refused by citi and have been given no further explanation. \\n\\nthis is predatory in that it affects my utilization of credit, further subjecting me to increase in aprs, etc and a higher cost of credit without any reason.</td>\n",
              "    </tr>\n",
              "    <tr>\n",
              "      <th>4</th>\n",
              "      <td>Debt collection</td>\n",
              "      <td>i am writing to request your assistance in looking into the deceptive practices of this collection law-firm above. it appears that they are using tactics that may be violating consumer protection law in debt collection practices depriving consumers of their rights to dispute. \\n\\n1 in  , i received a notice from the above company, the next day, i contacted their offices as instructed -- the memo dated  instruct me to contact the plaintiff attorney, not the court. i followed the instructions provided and contacted the plaintiff attorney by phone and also faxed a letter on  disputing the debt ( see letter ). \\n\\n2. the company responded with a letter dated  by sending me a bill with a due date for . i had requested a bill showing what my balance was back when i made a payment back in   for . i was disputing the amount owed, disputing the charges. \\n\\n3. i wrote back to the company and faxed another dispute letter on  ,  continue to dispute the amount owed. \\n\\n4. the company sent me ...</td>\n",
              "    </tr>\n",
              "  </tbody>\n",
              "</table>\n",
              "</div>"
            ],
            "text/plain": [
              "           Product                                                                                                                                                                                                                                                                                                                                                                                                                                                                                                                                                                                                                                                                                                                                                                                                                                                                                                                                                                                                                                Narrative\n",
              "0    Consumer Loan  i purchased a new car on  . the car dealer called citizens bank to get a 10 day payoff on my loan, good till  . the dealer sent the check the next day. when i balanced my checkbook on  . i noticed that citizens bank had taken the automatic payment out of my checking account at    bank. i called citizens and they stated that they did not close the loan until  . ( stating that they did not receive the check until . . ). i told them that i did not believe that the check took that long to arrive.  told me a check was issued to me for the amount overpaid, they deducted additional interest. today (  , ) i called citizens bank again and talked to a supervisor named , because on  . i received a letter that the loan had been paid in full ( dated ,  ) but no refund check was included.  stated that they hold any over payment for 10 business days after the loan was satisfied and that my check would be mailed out on wed. the .. i questioned her about the delay in posting the dealer payment and ...\n",
              "1         Mortgage                                                                                                                                                                                                                                                                                                                                                              started the refinance of home mortgage process with cash out option on 2016. necessary documents were submitted by . after initial review, got good faith estimate with loan amount and closing cost. based on this estimate, a deposit of  was made towards appraisal. appraisal came with lesser amount by . agreed to reduce the loan amount to that extent. however, got a revised estimate which was less by  and with additional closing cost towards points etc. in between got numerous revised estimates with different loan amounts and closing cost. it took more than 2 months to reach any definite closing document. hence, want to get back the deposit of .\n",
              "2      Credit card  was a happy  card member for years, in late 2016  converted the card portfolio to barclaycard (  ). we almost never carry a balance over, but we started to in  and barclay has been overcharging the interest expense every month. instead of charging interest on the carried balance they charged it on the entire average balance. so if we charged  last month and carried  from previous months then they charged us 15 % of the  = , should have been  in interest charges. they are double dipping, getting the interchange fee ( 1.5 % of purchase, equal to an 18 % apr ), plus they are getting the interest on the purchases at 15 %, that is the equivalent of an 33 % interest charge. \\ni feel this practice is very unethical, if not illegal. we converted, not by our choice, from  to barclaycard mastercard, so if we leave we lose all the points we acquired in previous years. completely unfair and is why the big financials have the hated reputation they have now. hope you folks over there can investi...\n",
              "3      Credit card                                                                                                                                                                                                                                                                                                                                                                                                            without provocation, i received notice that my credit line was being decreased by nearly 100 %. my available credit was reduced from $  to  ( the rough amount of my available balance ). \\n\\nwhen i called to question the change, i was provided a nob-descript response referencing my  report. it was my understanding that under the fcra i was entitled to a copy of this report, but was refused by citi and have been given no further explanation. \\n\\nthis is predatory in that it affects my utilization of credit, further subjecting me to increase in aprs, etc and a higher cost of credit without any reason.\n",
              "4  Debt collection  i am writing to request your assistance in looking into the deceptive practices of this collection law-firm above. it appears that they are using tactics that may be violating consumer protection law in debt collection practices depriving consumers of their rights to dispute. \\n\\n1 in  , i received a notice from the above company, the next day, i contacted their offices as instructed -- the memo dated  instruct me to contact the plaintiff attorney, not the court. i followed the instructions provided and contacted the plaintiff attorney by phone and also faxed a letter on  disputing the debt ( see letter ). \\n\\n2. the company responded with a letter dated  by sending me a bill with a due date for . i had requested a bill showing what my balance was back when i made a payment back in   for . i was disputing the amount owed, disputing the charges. \\n\\n3. i wrote back to the company and faxed another dispute letter on  ,  continue to dispute the amount owed. \\n\\n4. the company sent me ..."
            ]
          },
          "metadata": {
            "tags": []
          },
          "execution_count": 7
        }
      ]
    },
    {
      "cell_type": "code",
      "metadata": {
        "id": "gIGWYqU-GBKb",
        "colab_type": "code",
        "colab": {
          "base_uri": "https://localhost:8080/",
          "height": 548
        },
        "outputId": "d45ad97f-b28c-4657-dd2e-b5f8cb8054b1"
      },
      "source": [
        "category_codes = {\n",
        "    'Bank account or service' : 0,\n",
        "    'Consumer Loan' : 1,\n",
        "    'Credit card' : 2,\n",
        "    'Credit reporting' : 3,\n",
        "    'Debt collection' : 4,\n",
        "    'Mortgage' : 5,\n",
        "    'Student loan' : 6\n",
        "}\n",
        "data['category_id']=data['Product']\n",
        "data = data.replace({'category_id':category_codes})\n",
        "data.head()"
      ],
      "execution_count": null,
      "outputs": [
        {
          "output_type": "execute_result",
          "data": {
            "text/html": [
              "<div>\n",
              "<style scoped>\n",
              "    .dataframe tbody tr th:only-of-type {\n",
              "        vertical-align: middle;\n",
              "    }\n",
              "\n",
              "    .dataframe tbody tr th {\n",
              "        vertical-align: top;\n",
              "    }\n",
              "\n",
              "    .dataframe thead th {\n",
              "        text-align: right;\n",
              "    }\n",
              "</style>\n",
              "<table border=\"1\" class=\"dataframe\">\n",
              "  <thead>\n",
              "    <tr style=\"text-align: right;\">\n",
              "      <th></th>\n",
              "      <th>Product</th>\n",
              "      <th>Narrative</th>\n",
              "      <th>category_id</th>\n",
              "    </tr>\n",
              "  </thead>\n",
              "  <tbody>\n",
              "    <tr>\n",
              "      <th>0</th>\n",
              "      <td>Consumer Loan</td>\n",
              "      <td>i purchased a new car on  . the car dealer called citizens bank to get a 10 day payoff on my loan, good till  . the dealer sent the check the next day. when i balanced my checkbook on  . i noticed that citizens bank had taken the automatic payment out of my checking account at    bank. i called citizens and they stated that they did not close the loan until  . ( stating that they did not receive the check until . . ). i told them that i did not believe that the check took that long to arrive.  told me a check was issued to me for the amount overpaid, they deducted additional interest. today (  , ) i called citizens bank again and talked to a supervisor named , because on  . i received a letter that the loan had been paid in full ( dated ,  ) but no refund check was included.  stated that they hold any over payment for 10 business days after the loan was satisfied and that my check would be mailed out on wed. the .. i questioned her about the delay in posting the dealer payment and ...</td>\n",
              "      <td>1</td>\n",
              "    </tr>\n",
              "    <tr>\n",
              "      <th>1</th>\n",
              "      <td>Mortgage</td>\n",
              "      <td>started the refinance of home mortgage process with cash out option on 2016. necessary documents were submitted by . after initial review, got good faith estimate with loan amount and closing cost. based on this estimate, a deposit of  was made towards appraisal. appraisal came with lesser amount by . agreed to reduce the loan amount to that extent. however, got a revised estimate which was less by  and with additional closing cost towards points etc. in between got numerous revised estimates with different loan amounts and closing cost. it took more than 2 months to reach any definite closing document. hence, want to get back the deposit of .</td>\n",
              "      <td>5</td>\n",
              "    </tr>\n",
              "    <tr>\n",
              "      <th>2</th>\n",
              "      <td>Credit card</td>\n",
              "      <td>was a happy  card member for years, in late 2016  converted the card portfolio to barclaycard (  ). we almost never carry a balance over, but we started to in  and barclay has been overcharging the interest expense every month. instead of charging interest on the carried balance they charged it on the entire average balance. so if we charged  last month and carried  from previous months then they charged us 15 % of the  = , should have been  in interest charges. they are double dipping, getting the interchange fee ( 1.5 % of purchase, equal to an 18 % apr ), plus they are getting the interest on the purchases at 15 %, that is the equivalent of an 33 % interest charge. \\ni feel this practice is very unethical, if not illegal. we converted, not by our choice, from  to barclaycard mastercard, so if we leave we lose all the points we acquired in previous years. completely unfair and is why the big financials have the hated reputation they have now. hope you folks over there can investi...</td>\n",
              "      <td>2</td>\n",
              "    </tr>\n",
              "    <tr>\n",
              "      <th>3</th>\n",
              "      <td>Credit card</td>\n",
              "      <td>without provocation, i received notice that my credit line was being decreased by nearly 100 %. my available credit was reduced from $  to  ( the rough amount of my available balance ). \\n\\nwhen i called to question the change, i was provided a nob-descript response referencing my  report. it was my understanding that under the fcra i was entitled to a copy of this report, but was refused by citi and have been given no further explanation. \\n\\nthis is predatory in that it affects my utilization of credit, further subjecting me to increase in aprs, etc and a higher cost of credit without any reason.</td>\n",
              "      <td>2</td>\n",
              "    </tr>\n",
              "    <tr>\n",
              "      <th>4</th>\n",
              "      <td>Debt collection</td>\n",
              "      <td>i am writing to request your assistance in looking into the deceptive practices of this collection law-firm above. it appears that they are using tactics that may be violating consumer protection law in debt collection practices depriving consumers of their rights to dispute. \\n\\n1 in  , i received a notice from the above company, the next day, i contacted their offices as instructed -- the memo dated  instruct me to contact the plaintiff attorney, not the court. i followed the instructions provided and contacted the plaintiff attorney by phone and also faxed a letter on  disputing the debt ( see letter ). \\n\\n2. the company responded with a letter dated  by sending me a bill with a due date for . i had requested a bill showing what my balance was back when i made a payment back in   for . i was disputing the amount owed, disputing the charges. \\n\\n3. i wrote back to the company and faxed another dispute letter on  ,  continue to dispute the amount owed. \\n\\n4. the company sent me ...</td>\n",
              "      <td>4</td>\n",
              "    </tr>\n",
              "  </tbody>\n",
              "</table>\n",
              "</div>"
            ],
            "text/plain": [
              "           Product  ... category_id\n",
              "0    Consumer Loan  ...           1\n",
              "1         Mortgage  ...           5\n",
              "2      Credit card  ...           2\n",
              "3      Credit card  ...           2\n",
              "4  Debt collection  ...           4\n",
              "\n",
              "[5 rows x 3 columns]"
            ]
          },
          "metadata": {
            "tags": []
          },
          "execution_count": 8
        }
      ]
    },
    {
      "cell_type": "code",
      "metadata": {
        "id": "oJGmongXsnI6",
        "colab_type": "code",
        "colab": {
          "base_uri": "https://localhost:8080/",
          "height": 624
        },
        "outputId": "0e1318e7-2c5e-4bf2-a5fb-fb4e278a9476"
      },
      "source": [
        "import matplotlib.pyplot as plt\n",
        "fig = plt.figure(figsize=(10,8))\n",
        "data.groupby('Product').Narrative.count().plot.bar(color=[\"Brown\", \"Purple\", \"Red\", \"Gold\", \"Blue\", \"Grey\", \"Green\"])\n",
        "plt.show()\n",
        "print(\"Shape of data{}\".format(data.shape))"
      ],
      "execution_count": null,
      "outputs": [
        {
          "output_type": "display_data",
          "data": {
            "image/png": "[encoded data removed]",
            "text/plain": [
              "<Figure size 720x576 with 1 Axes>"
            ]
          },
          "metadata": {
            "tags": []
          }
        },
        {
          "output_type": "stream",
          "text": [
            "Shape of data(68197, 3)\n"
          ],
          "name": "stdout"
        }
      ]
    },
    {
      "cell_type": "code",
      "metadata": {
        "id": "RmwQn6H9avrW",
        "colab_type": "code",
        "colab": {
          "base_uri": "https://localhost:8080/",
          "height": 482
        },
        "outputId": "9764bc40-90a4-4be7-ace4-fce0f4aa20c6"
      },
      "source": [
        "fig=plt.figure(figsize=(10,8))\n",
        "labels=data['Product'].unique()\n",
        "pie_data=data.groupby('Product').Narrative.count()\n",
        "colors=[\"Brown\", \"Purple\", \"Red\", \"Gold\", \"Blue\", \"Grey\", \"Green\"]\n",
        "explode=(0.1,0.1,0.1,0.1,0.1,0.1,0.1)\n",
        "plt.pie(pie_data,labels=labels,explode=explode,colors=colors,autopct='%1.1f%%',shadow=True,startangle=140)\n",
        "plt.title(\"No. of Complains per Department\")\n",
        "plt.show()"
      ],
      "execution_count": null,
      "outputs": [
        {
          "output_type": "display_data",
          "data": {
            "image/png": "[encoded data removed]",
            "text/plain": [
              "<Figure size 720x576 with 1 Axes>"
            ]
          },
          "metadata": {
            "tags": []
          }
        }
      ]
    },
    {
      "cell_type": "code",
      "metadata": {
        "id": "QQu7cv8HtOG7",
        "colab_type": "code",
        "colab": {
          "base_uri": "https://localhost:8080/",
          "height": 151
        },
        "outputId": "7f55c4ae-5aad-4739-cde8-7d669645e238"
      },
      "source": [
        "data.info()"
      ],
      "execution_count": null,
      "outputs": [
        {
          "output_type": "stream",
          "text": [
            "<class 'pandas.core.frame.DataFrame'>\n",
            "RangeIndex: 68197 entries, 0 to 68196\n",
            "Data columns (total 3 columns):\n",
            "Product        68197 non-null object\n",
            "Narrative      68197 non-null object\n",
            "category_id    68197 non-null int64\n",
            "dtypes: int64(1), object(2)\n",
            "memory usage: 1.6+ MB\n"
          ],
          "name": "stdout"
        }
      ]
    },
    {
      "cell_type": "code",
      "metadata": {
        "id": "rM22h3iA29-b",
        "colab_type": "code",
        "colab": {}
      },
      "source": [
        "#Now we start the feature extraction part\n",
        "import re\n",
        "import nltk\n",
        "from nltk.corpus import stopwords"
      ],
      "execution_count": null,
      "outputs": []
    },
    {
      "cell_type": "code",
      "metadata": {
        "id": "rF1QKw_B57Pa",
        "colab_type": "code",
        "colab": {
          "base_uri": "https://localhost:8080/",
          "height": 101
        },
        "outputId": "a38ffcd8-e1e5-4428-b0a4-c79b1f8a2b68"
      },
      "source": [
        "nltk.download('punkt')\n",
        "nltk.download('wordnet')"
      ],
      "execution_count": null,
      "outputs": [
        {
          "output_type": "stream",
          "text": [
            "[nltk_data] Downloading package punkt to /root/nltk_data...\n",
            "[nltk_data]   Unzipping tokenizers/punkt.zip.\n",
            "[nltk_data] Downloading package wordnet to /root/nltk_data...\n",
            "[nltk_data]   Unzipping corpora/wordnet.zip.\n"
          ],
          "name": "stdout"
        },
        {
          "output_type": "execute_result",
          "data": {
            "text/plain": [
              "True"
            ]
          },
          "metadata": {
            "tags": []
          },
          "execution_count": 15
        }
      ]
    },
    {
      "cell_type": "code",
      "metadata": {
        "id": "WiKaQKPDcE1D",
        "colab_type": "code",
        "colab": {}
      },
      "source": [
        "from nltk.stem import WordNetLemmatizer\n",
        "wordnet_lemmatizer= WordNetLemmatizer()"
      ],
      "execution_count": null,
      "outputs": []
    },
    {
      "cell_type": "code",
      "metadata": {
        "id": "BRfDK_fFcoGL",
        "colab_type": "code",
        "colab": {}
      },
      "source": [
        "data['first']=data['Narrative']\n",
        "nrows=len(data)\n",
        "lemmatized_text_list = []\n",
        "for row in range(0,nrows):\n",
        "  lemmatized_list=[]\n",
        "  text=data.loc[row]['first']\n",
        "  text_words = text.split(\" \")\n",
        "  for word in text_words:\n",
        "    lemmatized_list.append(wordnet_lemmatizer.lemmatize(word,pos=\"v\"))\n",
        "  lemmatized_text = \" \".join(lemmatized_list)\n",
        "  lemmatized_text_list.append(lemmatized_text)"
      ],
      "execution_count": null,
      "outputs": []
    },
    {
      "cell_type": "code",
      "metadata": {
        "id": "SVHkhI3keVCu",
        "colab_type": "code",
        "colab": {}
      },
      "source": [
        "data['first']=lemmatized_text_list"
      ],
      "execution_count": null,
      "outputs": []
    },
    {
      "cell_type": "code",
      "metadata": {
        "id": "szElJ45pgR4n",
        "colab_type": "code",
        "colab": {}
      },
      "source": [
        "nltk.download('stopwords')\n",
        "\n",
        "stop_words = list(stopwords.words('english'))"
      ],
      "execution_count": null,
      "outputs": []
    },
    {
      "cell_type": "code",
      "metadata": {
        "id": "cWrfIBXtgY2e",
        "colab_type": "code",
        "colab": {
          "base_uri": "https://localhost:8080/",
          "height": 34
        },
        "outputId": "bb2f902f-ab0c-4409-b9fe-54fba6fe8edb"
      },
      "source": [
        "example =\"me eating a meal\"\n",
        "word=\"me\"\n",
        "\n",
        "regex= r\"\\b\" + word + r\"\\b\"\n",
        "re.sub(regex,\"StopWord\",example)"
      ],
      "execution_count": null,
      "outputs": [
        {
          "output_type": "execute_result",
          "data": {
            "text/plain": [
              "'StopWord eating a meal'"
            ]
          },
          "metadata": {
            "tags": []
          },
          "execution_count": 19
        }
      ]
    },
    {
      "cell_type": "code",
      "metadata": {
        "id": "SuNRzeAAh7OF",
        "colab_type": "code",
        "colab": {}
      },
      "source": [
        "for stop_word in stop_words:\n",
        "\n",
        "    regex_stopword = r\"\\b\" + stop_word + r\"\\b\"\n",
        "    data['first'] = data['first'].str.replace(regex_stopword, '')"
      ],
      "execution_count": null,
      "outputs": []
    },
    {
      "cell_type": "code",
      "metadata": {
        "id": "XHUV1KTHkieu",
        "colab_type": "code",
        "colab": {
          "base_uri": "https://localhost:8080/",
          "height": 54
        },
        "outputId": "1d97a57b-e888-45b1-bf5d-f440ccd5c299"
      },
      "source": [
        "data.loc[5]['Narrative']"
      ],
      "execution_count": null,
      "outputs": [
        {
          "output_type": "execute_result",
          "data": {
            "text/plain": [
              "'i went through a divorce several years ago and requested a home loan modification through bank of america. bank of america refused to get back to me on several occasions causing the process to take a year, destroying my credit in the process. only when they got the foreclosure judgment and sent it to sheriff sale did they process it correctly and i paid on time for over a year. we decided to sell the home in 2015 and listed it for sale. after about 75 days, we received an offer and accepted. we promptly got an apartment, paid a deposit and signed a lease. we moved into the new apartment about 5 days before closing. as we were preparing for closing, it was discovered by the purchasing lender ( unknown to me ) that bank of america had sold our overdue principal to hud. this required us to sell our home for over  to break even. the house only appraised at around  because there have been so many foreclosures in our area. i contacted bank of america to determine what we could do and informed them that we had a buyer if they could process the short sale immediately. they said that they would probably not be able to and \" hopefully the buyer was still around \\'\\'. they went through the same process of continually requesting updated information for months while the process dragged on. i lost my buyer and could make the mortgage payments and the rent payment on my apartment so i continued to work through the home modification process. i contacted their lawyers several times, received a response on a few occassions. finally, on  , i received an email back from   at   ( bank of america \\'s attorney ) saying that my loan has been \" service released \\'\\' to  . i immediately called them to restart the process and was sent out a packet. i was in the process of submitting the packet and gathering all of the info they needed. my wife drove by the house and there was a sherrif sale notification on it for . bank of america, who would no longer work with me and would never respond and sold it to , processed a sheriff sale. they began the sheriff sale process after i was informed by their lawyers that they no longer serviced the loan! i called  and they confirmed that bank of america did complete that. \\n\\nlastly, i logged on to the sheriff \\'s website to discover that bank of america bought it! \\n\\ni can only see this as they intentionally did this to somehow gain from the process.'"
            ]
          },
          "metadata": {
            "tags": []
          },
          "execution_count": 21
        }
      ]
    },
    {
      "cell_type": "code",
      "metadata": {
        "id": "mbyqfTRjiXQ0",
        "colab_type": "code",
        "colab": {
          "base_uri": "https://localhost:8080/",
          "height": 54
        },
        "outputId": "f04e1fb8-d917-414c-8199-30f9c7b42c3b"
      },
      "source": [
        "data.loc[5]['first']"
      ],
      "execution_count": null,
      "outputs": [
        {
          "output_type": "execute_result",
          "data": {
            "text/plain": [
              "' go   divorce several years ago  request  home loan modification  bank  america. bank  america refuse  get back    several occasion cause  process  take  year, destroy  credit   process.    get  foreclosure judgment  send   sheriff sale   process  correctly   pay  time    year.  decide  sell  home  2015  list   sale.   75 days,  receive  offer  accepted.  promptly get  apartment, pay  deposit  sign  lease.  move   new apartment  5 days  closing.    prepare  closing,   discover   purchase lender ( unknown   )  bank  america  sell  overdue principal  hud.  require us  sell  home     break even.  house  appraise  around       many foreclosures   area.  contact bank  america  determine   could   inform      buyer   could process  short sale immediately.  say   would probably   able   \" hopefully  buyer  still around \\'\\'.  go    process  continually request update information  months   process drag .  lose  buyer  could make  mortgage payments   rent payment   apartment   continue  work   home modification process.  contact  lawyers several times, receive  response    occassions. finally,   ,  receive  email back       ( bank  america \\' attorney ) say   loan   \" service release \\'\\'   .  immediately call   restart  process   send   packet.     process  submit  packet  gather    info  needed.  wife drive   house     sherrif sale notification    . bank  america,  would  longer work    would never respond  sell   , process  sheriff sale.  begin  sheriff sale process    inform   lawyers    longer service  loan!  call    confirm  bank  america  complete . \\n\\nlastly,  log    sheriff \\' website  discover  bank  america buy ! \\n\\n   see    intentionally    somehow gain   process.'"
            ]
          },
          "metadata": {
            "tags": []
          },
          "execution_count": 22
        }
      ]
    },
    {
      "cell_type": "code",
      "metadata": {
        "id": "jciBCwDnjPuz",
        "colab_type": "code",
        "colab": {
          "base_uri": "https://localhost:8080/",
          "height": 1000
        },
        "outputId": "0aec56d5-816e-46cf-845d-f59981b921b1"
      },
      "source": [
        "data.head()"
      ],
      "execution_count": null,
      "outputs": [
        {
          "output_type": "execute_result",
          "data": {
            "text/html": [
              "<div>\n",
              "<style scoped>\n",
              "    .dataframe tbody tr th:only-of-type {\n",
              "        vertical-align: middle;\n",
              "    }\n",
              "\n",
              "    .dataframe tbody tr th {\n",
              "        vertical-align: top;\n",
              "    }\n",
              "\n",
              "    .dataframe thead th {\n",
              "        text-align: right;\n",
              "    }\n",
              "</style>\n",
              "<table border=\"1\" class=\"dataframe\">\n",
              "  <thead>\n",
              "    <tr style=\"text-align: right;\">\n",
              "      <th></th>\n",
              "      <th>Product</th>\n",
              "      <th>Narrative</th>\n",
              "      <th>category_id</th>\n",
              "      <th>first</th>\n",
              "    </tr>\n",
              "  </thead>\n",
              "  <tbody>\n",
              "    <tr>\n",
              "      <th>0</th>\n",
              "      <td>Consumer Loan</td>\n",
              "      <td>i purchased a new car on  . the car dealer called citizens bank to get a 10 day payoff on my loan, good till  . the dealer sent the check the next day. when i balanced my checkbook on  . i noticed that citizens bank had taken the automatic payment out of my checking account at    bank. i called citizens and they stated that they did not close the loan until  . ( stating that they did not receive the check until . . ). i told them that i did not believe that the check took that long to arrive.  told me a check was issued to me for the amount overpaid, they deducted additional interest. today (  , ) i called citizens bank again and talked to a supervisor named , because on  . i received a letter that the loan had been paid in full ( dated ,  ) but no refund check was included.  stated that they hold any over payment for 10 business days after the loan was satisfied and that my check would be mailed out on wed. the .. i questioned her about the delay in posting the dealer payment and ...</td>\n",
              "      <td>1</td>\n",
              "      <td>purchase  new car   .  car dealer call citizens bank  get  10 day payoff   loan, good till  .  dealer send  check  next day.   balance  checkbook   .  notice  citizens bank  take  automatic payment    check account     bank.  call citizens   state     close  loan   . ( state     receive  check  . . ).  tell      believe   check take  long  arrive.  tell   check  issue     amount overpaid,  deduct additional interest. today (  , )  call citizens bank   talk   supervisor name ,    .  receive  letter   loan   pay  full ( date ,  )   refund check  included.  state   hold   payment  10 business days   loan  satisfy    check would  mail   wed.  ..  question    delay  post  dealer payment   first state  sometimes  take 3  4 business days  post,   say    receive  check till     tell      believe   ask    money.   state   hold   payment  10 business days.  ask  ,   simply say    policy.  ask    would receive interest   money   state .  believe  citizens bank  deliberately delay  post  paym...</td>\n",
              "    </tr>\n",
              "    <tr>\n",
              "      <th>1</th>\n",
              "      <td>Mortgage</td>\n",
              "      <td>started the refinance of home mortgage process with cash out option on 2016. necessary documents were submitted by . after initial review, got good faith estimate with loan amount and closing cost. based on this estimate, a deposit of  was made towards appraisal. appraisal came with lesser amount by . agreed to reduce the loan amount to that extent. however, got a revised estimate which was less by  and with additional closing cost towards points etc. in between got numerous revised estimates with different loan amounts and closing cost. it took more than 2 months to reach any definite closing document. hence, want to get back the deposit of .</td>\n",
              "      <td>3</td>\n",
              "      <td>start  refinance  home mortgage process  cash  option  2016. necessary document  submit  .  initial review, get good faith estimate  loan amount  close cost. base   estimate,  deposit    make towards appraisal. appraisal come  lesser amount  . agree  reduce  loan amount   extent. however, get  revise estimate   less     additional close cost towards point etc.   get numerous revise estimate  different loan amount  close cost.  take   2 months  reach  definite close document. hence, want  get back  deposit  .</td>\n",
              "    </tr>\n",
              "    <tr>\n",
              "      <th>2</th>\n",
              "      <td>Credit card</td>\n",
              "      <td>was a happy  card member for years, in late 2016  converted the card portfolio to barclaycard (  ). we almost never carry a balance over, but we started to in  and barclay has been overcharging the interest expense every month. instead of charging interest on the carried balance they charged it on the entire average balance. so if we charged  last month and carried  from previous months then they charged us 15 % of the  = , should have been  in interest charges. they are double dipping, getting the interchange fee ( 1.5 % of purchase, equal to an 18 % apr ), plus they are getting the interest on the purchases at 15 %, that is the equivalent of an 33 % interest charge. \\ni feel this practice is very unethical, if not illegal. we converted, not by our choice, from  to barclaycard mastercard, so if we leave we lose all the points we acquired in previous years. completely unfair and is why the big financials have the hated reputation they have now. hope you folks over there can investi...</td>\n",
              "      <td>4</td>\n",
              "      <td>happy  card member  years,  late 2016  convert  card portfolio  barclaycard (  ).  almost never carry  balance ,   start     barclay   overcharge  interest expense every month. instead  charge interest   carry balance  charge    entire average balance.    charge  last month  carry   previous months   charge us 15 %    = ,      interest charges.   double dipping, get  interchange fee ( 1.5 %  purchase, equal   18 % apr ), plus   get  interest   purchase  15 %,    equivalent   33 % interest charge. \\n feel  practice   unethical,   illegal.  converted,    choice,    barclaycard mastercard,    leave  lose   point  acquire  previous years. completely unfair     big financials   hat reputation   . hope  folks    investigate.</td>\n",
              "    </tr>\n",
              "    <tr>\n",
              "      <th>3</th>\n",
              "      <td>Credit card</td>\n",
              "      <td>without provocation, i received notice that my credit line was being decreased by nearly 100 %. my available credit was reduced from $  to  ( the rough amount of my available balance ). \\n\\nwhen i called to question the change, i was provided a nob-descript response referencing my  report. it was my understanding that under the fcra i was entitled to a copy of this report, but was refused by citi and have been given no further explanation. \\n\\nthis is predatory in that it affects my utilization of credit, further subjecting me to increase in aprs, etc and a higher cost of credit without any reason.</td>\n",
              "      <td>4</td>\n",
              "      <td>without provocation,  receive notice   credit line   decrease  nearly 100 %.  available credit  reduce  $    (  rough amount   available balance ). \\n\\n  call  question  change,   provide  nob-descript response reference   report.    understand    fcra   entitle   copy   report,   refuse  citi    give   explanation. \\n\\n  predatory    affect  utilization  credit,  subject   increase  aprs, etc   higher cost  credit without  reason.</td>\n",
              "    </tr>\n",
              "    <tr>\n",
              "      <th>4</th>\n",
              "      <td>Debt collection</td>\n",
              "      <td>i am writing to request your assistance in looking into the deceptive practices of this collection law-firm above. it appears that they are using tactics that may be violating consumer protection law in debt collection practices depriving consumers of their rights to dispute. \\n\\n1 in  , i received a notice from the above company, the next day, i contacted their offices as instructed -- the memo dated  instruct me to contact the plaintiff attorney, not the court. i followed the instructions provided and contacted the plaintiff attorney by phone and also faxed a letter on  disputing the debt ( see letter ). \\n\\n2. the company responded with a letter dated  by sending me a bill with a due date for . i had requested a bill showing what my balance was back when i made a payment back in   for . i was disputing the amount owed, disputing the charges. \\n\\n3. i wrote back to the company and faxed another dispute letter on  ,  continue to dispute the amount owed. \\n\\n4. the company sent me ...</td>\n",
              "      <td>2</td>\n",
              "      <td>write  request  assistance  look   deceptive practice   collection law-firm .  appear    use tactics  may  violate consumer protection law  debt collection practice deprive consumers   right  dispute. \\n\\n1   ,  receive  notice    company,  next day,  contact  offices  instruct --  memo date  instruct   contact  plaintiff attorney,   court.  follow  instructions provide  contact  plaintiff attorney  phone  also fax  letter   dispute  debt ( see letter ). \\n\\n2.  company respond   letter date   send   bill   due date  .   request  bill show   balance  back   make  payment back     .   dispute  amount owed, dispute  charges. \\n\\n3.  write back   company  fax another dispute letter   ,  continue  dispute  amount owed. \\n\\n4.  company send   response   say   furnish   information,    dispute   owe  ,   dispute   balance  inaccurate    need proof   last know charge  activity   account    .   last paragraph   letter  indicate     dispute  amount  send  letter   .. \\n\\n5.   ,  --  send ...</td>\n",
              "    </tr>\n",
              "  </tbody>\n",
              "</table>\n",
              "</div>"
            ],
            "text/plain": [
              "           Product  ...                                                                                                                                                                                                                                                                                                                                                                                                                                                                                                                                                                                                                                                                                                                                                                                                                                                                                                                                                                                                                                    first\n",
              "0    Consumer Loan  ...   purchase  new car   .  car dealer call citizens bank  get  10 day payoff   loan, good till  .  dealer send  check  next day.   balance  checkbook   .  notice  citizens bank  take  automatic payment    check account     bank.  call citizens   state     close  loan   . ( state     receive  check  . . ).  tell      believe   check take  long  arrive.  tell   check  issue     amount overpaid,  deduct additional interest. today (  , )  call citizens bank   talk   supervisor name ,    .  receive  letter   loan   pay  full ( date ,  )   refund check  included.  state   hold   payment  10 business days   loan  satisfy    check would  mail   wed.  ..  question    delay  post  dealer payment   first state  sometimes  take 3  4 business days  post,   say    receive  check till     tell      believe   ask    money.   state   hold   payment  10 business days.  ask  ,   simply say    policy.  ask    would receive interest   money   state .  believe  citizens bank  deliberately delay  post  paym...\n",
              "1         Mortgage  ...                                                                                                                                                                                                                                                                                                                                                                                                                                                                                                        start  refinance  home mortgage process  cash  option  2016. necessary document  submit  .  initial review, get good faith estimate  loan amount  close cost. base   estimate,  deposit    make towards appraisal. appraisal come  lesser amount  . agree  reduce  loan amount   extent. however, get  revise estimate   less     additional close cost towards point etc.   get numerous revise estimate  different loan amount  close cost.  take   2 months  reach  definite close document. hence, want  get back  deposit  .\n",
              "2      Credit card  ...                                                                                                                                                                                                                                                                                 happy  card member  years,  late 2016  convert  card portfolio  barclaycard (  ).  almost never carry  balance ,   start     barclay   overcharge  interest expense every month. instead  charge interest   carry balance  charge    entire average balance.    charge  last month  carry   previous months   charge us 15 %    = ,      interest charges.   double dipping, get  interchange fee ( 1.5 %  purchase, equal   18 % apr ), plus   get  interest   purchase  15 %,    equivalent   33 % interest charge. \\n feel  practice   unethical,   illegal.  converted,    choice,    barclaycard mastercard,    leave  lose   point  acquire  previous years. completely unfair     big financials   hat reputation   . hope  folks    investigate.\n",
              "3      Credit card  ...                                                                                                                                                                                                                                                                                                                                                                                                                                                                                                                                                                                      without provocation,  receive notice   credit line   decrease  nearly 100 %.  available credit  reduce  $    (  rough amount   available balance ). \\n\\n  call  question  change,   provide  nob-descript response reference   report.    understand    fcra   entitle   copy   report,   refuse  citi    give   explanation. \\n\\n  predatory    affect  utilization  credit,  subject   increase  aprs, etc   higher cost  credit without  reason.\n",
              "4  Debt collection  ...    write  request  assistance  look   deceptive practice   collection law-firm .  appear    use tactics  may  violate consumer protection law  debt collection practice deprive consumers   right  dispute. \\n\\n1   ,  receive  notice    company,  next day,  contact  offices  instruct --  memo date  instruct   contact  plaintiff attorney,   court.  follow  instructions provide  contact  plaintiff attorney  phone  also fax  letter   dispute  debt ( see letter ). \\n\\n2.  company respond   letter date   send   bill   due date  .   request  bill show   balance  back   make  payment back     .   dispute  amount owed, dispute  charges. \\n\\n3.  write back   company  fax another dispute letter   ,  continue  dispute  amount owed. \\n\\n4.  company send   response   say   furnish   information,    dispute   owe  ,   dispute   balance  inaccurate    need proof   last know charge  activity   account    .   last paragraph   letter  indicate     dispute  amount  send  letter   .. \\n\\n5.   ,  --  send ...\n",
              "\n",
              "[5 rows x 4 columns]"
            ]
          },
          "metadata": {
            "tags": []
          },
          "execution_count": 23
        }
      ]
    },
    {
      "cell_type": "code",
      "metadata": {
        "id": "dNbhPR5Nkyoq",
        "colab_type": "code",
        "colab": {}
      },
      "source": [
        "from sklearn.model_selection import train_test_split\n",
        "X_train, X_test, y_train, y_test = train_test_split(data['first'], \n",
        "                                                    data['category_id'], \n",
        "                                                    test_size=0.25, \n",
        "                                                    random_state=8)"
      ],
      "execution_count": null,
      "outputs": []
    },
    {
      "cell_type": "code",
      "metadata": {
        "id": "mF3aTu5Elmpa",
        "colab_type": "code",
        "colab": {
          "base_uri": "https://localhost:8080/",
          "height": 51
        },
        "outputId": "b5986185-2b37-47b2-8b59-5fcf17ef7405"
      },
      "source": [
        "from sklearn.feature_extraction.text import TfidfVectorizer\n",
        "tfidf = TfidfVectorizer(encoding='utf-8',\n",
        "                        ngram_range=(1,2),\n",
        "                        stop_words=None,\n",
        "                        lowercase=False,\n",
        "                        max_df=1.,\n",
        "                        min_df=10,\n",
        "                        max_features=300,\n",
        "                        norm='l2',\n",
        "                        sublinear_tf=True)\n",
        "                        \n",
        "features_train = tfidf.fit_transform(X_train).toarray()\n",
        "labels_train = y_train\n",
        "print(features_train.shape)\n",
        "\n",
        "features_test = tfidf.transform(X_test).toarray()\n",
        "labels_test = y_test\n",
        "print(features_test.shape)"
      ],
      "execution_count": null,
      "outputs": [
        {
          "output_type": "stream",
          "text": [
            "(51147, 300)\n",
            "(17050, 300)\n"
          ],
          "name": "stdout"
        }
      ]
    },
    {
      "cell_type": "code",
      "metadata": {
        "id": "q2BXtsakn6B6",
        "colab_type": "code",
        "colab": {
          "base_uri": "https://localhost:8080/",
          "height": 1000
        },
        "outputId": "b7cd2bc3-e71e-4f5b-cd56-86894b92077f"
      },
      "source": [
        "data.head()"
      ],
      "execution_count": null,
      "outputs": [
        {
          "output_type": "execute_result",
          "data": {
            "text/html": [
              "<div>\n",
              "<style scoped>\n",
              "    .dataframe tbody tr th:only-of-type {\n",
              "        vertical-align: middle;\n",
              "    }\n",
              "\n",
              "    .dataframe tbody tr th {\n",
              "        vertical-align: top;\n",
              "    }\n",
              "\n",
              "    .dataframe thead th {\n",
              "        text-align: right;\n",
              "    }\n",
              "</style>\n",
              "<table border=\"1\" class=\"dataframe\">\n",
              "  <thead>\n",
              "    <tr style=\"text-align: right;\">\n",
              "      <th></th>\n",
              "      <th>Product</th>\n",
              "      <th>Narrative</th>\n",
              "      <th>category_id</th>\n",
              "      <th>first</th>\n",
              "    </tr>\n",
              "  </thead>\n",
              "  <tbody>\n",
              "    <tr>\n",
              "      <th>0</th>\n",
              "      <td>Consumer Loan</td>\n",
              "      <td>i purchased a new car on  . the car dealer called citizens bank to get a 10 day payoff on my loan, good till  . the dealer sent the check the next day. when i balanced my checkbook on  . i noticed that citizens bank had taken the automatic payment out of my checking account at    bank. i called citizens and they stated that they did not close the loan until  . ( stating that they did not receive the check until . . ). i told them that i did not believe that the check took that long to arrive.  told me a check was issued to me for the amount overpaid, they deducted additional interest. today (  , ) i called citizens bank again and talked to a supervisor named , because on  . i received a letter that the loan had been paid in full ( dated ,  ) but no refund check was included.  stated that they hold any over payment for 10 business days after the loan was satisfied and that my check would be mailed out on wed. the .. i questioned her about the delay in posting the dealer payment and ...</td>\n",
              "      <td>1</td>\n",
              "      <td>purchase  new car   .  car dealer call citizens bank  get  10 day payoff   loan, good till  .  dealer send  check  next day.   balance  checkbook   .  notice  citizens bank  take  automatic payment    check account     bank.  call citizens   state     close  loan   . ( state     receive  check  . . ).  tell      believe   check take  long  arrive.  tell   check  issue     amount overpaid,  deduct additional interest. today (  , )  call citizens bank   talk   supervisor name ,    .  receive  letter   loan   pay  full ( date ,  )   refund check  included.  state   hold   payment  10 business days   loan  satisfy    check would  mail   wed.  ..  question    delay  post  dealer payment   first state  sometimes  take 3  4 business days  post,   say    receive  check till     tell      believe   ask    money.   state   hold   payment  10 business days.  ask  ,   simply say    policy.  ask    would receive interest   money   state .  believe  citizens bank  deliberately delay  post  paym...</td>\n",
              "    </tr>\n",
              "    <tr>\n",
              "      <th>1</th>\n",
              "      <td>Mortgage</td>\n",
              "      <td>started the refinance of home mortgage process with cash out option on 2016. necessary documents were submitted by . after initial review, got good faith estimate with loan amount and closing cost. based on this estimate, a deposit of  was made towards appraisal. appraisal came with lesser amount by . agreed to reduce the loan amount to that extent. however, got a revised estimate which was less by  and with additional closing cost towards points etc. in between got numerous revised estimates with different loan amounts and closing cost. it took more than 2 months to reach any definite closing document. hence, want to get back the deposit of .</td>\n",
              "      <td>5</td>\n",
              "      <td>start  refinance  home mortgage process  cash  option  2016. necessary document  submit  .  initial review, get good faith estimate  loan amount  close cost. base   estimate,  deposit    make towards appraisal. appraisal come  lesser amount  . agree  reduce  loan amount   extent. however, get  revise estimate   less     additional close cost towards point etc.   get numerous revise estimate  different loan amount  close cost.  take   2 months  reach  definite close document. hence, want  get back  deposit  .</td>\n",
              "    </tr>\n",
              "    <tr>\n",
              "      <th>2</th>\n",
              "      <td>Credit card</td>\n",
              "      <td>was a happy  card member for years, in late 2016  converted the card portfolio to barclaycard (  ). we almost never carry a balance over, but we started to in  and barclay has been overcharging the interest expense every month. instead of charging interest on the carried balance they charged it on the entire average balance. so if we charged  last month and carried  from previous months then they charged us 15 % of the  = , should have been  in interest charges. they are double dipping, getting the interchange fee ( 1.5 % of purchase, equal to an 18 % apr ), plus they are getting the interest on the purchases at 15 %, that is the equivalent of an 33 % interest charge. \\ni feel this practice is very unethical, if not illegal. we converted, not by our choice, from  to barclaycard mastercard, so if we leave we lose all the points we acquired in previous years. completely unfair and is why the big financials have the hated reputation they have now. hope you folks over there can investi...</td>\n",
              "      <td>2</td>\n",
              "      <td>happy  card member  years,  late 2016  convert  card portfolio  barclaycard (  ).  almost never carry  balance ,   start     barclay   overcharge  interest expense every month. instead  charge interest   carry balance  charge    entire average balance.    charge  last month  carry   previous months   charge us 15 %    = ,      interest charges.   double dipping, get  interchange fee ( 1.5 %  purchase, equal   18 % apr ), plus   get  interest   purchase  15 %,    equivalent   33 % interest charge. \\n feel  practice   unethical,   illegal.  converted,    choice,    barclaycard mastercard,    leave  lose   point  acquire  previous years. completely unfair     big financials   hat reputation   . hope  folks    investigate.</td>\n",
              "    </tr>\n",
              "    <tr>\n",
              "      <th>3</th>\n",
              "      <td>Credit card</td>\n",
              "      <td>without provocation, i received notice that my credit line was being decreased by nearly 100 %. my available credit was reduced from $  to  ( the rough amount of my available balance ). \\n\\nwhen i called to question the change, i was provided a nob-descript response referencing my  report. it was my understanding that under the fcra i was entitled to a copy of this report, but was refused by citi and have been given no further explanation. \\n\\nthis is predatory in that it affects my utilization of credit, further subjecting me to increase in aprs, etc and a higher cost of credit without any reason.</td>\n",
              "      <td>2</td>\n",
              "      <td>without provocation,  receive notice   credit line   decrease  nearly 100 %.  available credit  reduce  $    (  rough amount   available balance ). \\n\\n  call  question  change,   provide  nob-descript response reference   report.    understand    fcra   entitle   copy   report,   refuse  citi    give   explanation. \\n\\n  predatory    affect  utilization  credit,  subject   increase  aprs, etc   higher cost  credit without  reason.</td>\n",
              "    </tr>\n",
              "    <tr>\n",
              "      <th>4</th>\n",
              "      <td>Debt collection</td>\n",
              "      <td>i am writing to request your assistance in looking into the deceptive practices of this collection law-firm above. it appears that they are using tactics that may be violating consumer protection law in debt collection practices depriving consumers of their rights to dispute. \\n\\n1 in  , i received a notice from the above company, the next day, i contacted their offices as instructed -- the memo dated  instruct me to contact the plaintiff attorney, not the court. i followed the instructions provided and contacted the plaintiff attorney by phone and also faxed a letter on  disputing the debt ( see letter ). \\n\\n2. the company responded with a letter dated  by sending me a bill with a due date for . i had requested a bill showing what my balance was back when i made a payment back in   for . i was disputing the amount owed, disputing the charges. \\n\\n3. i wrote back to the company and faxed another dispute letter on  ,  continue to dispute the amount owed. \\n\\n4. the company sent me ...</td>\n",
              "      <td>4</td>\n",
              "      <td>write  request  assistance  look   deceptive practice   collection law-firm .  appear    use tactics  may  violate consumer protection law  debt collection practice deprive consumers   right  dispute. \\n\\n1   ,  receive  notice    company,  next day,  contact  offices  instruct --  memo date  instruct   contact  plaintiff attorney,   court.  follow  instructions provide  contact  plaintiff attorney  phone  also fax  letter   dispute  debt ( see letter ). \\n\\n2.  company respond   letter date   send   bill   due date  .   request  bill show   balance  back   make  payment back     .   dispute  amount owed, dispute  charges. \\n\\n3.  write back   company  fax another dispute letter   ,  continue  dispute  amount owed. \\n\\n4.  company send   response   say   furnish   information,    dispute   owe  ,   dispute   balance  inaccurate    need proof   last know charge  activity   account    .   last paragraph   letter  indicate     dispute  amount  send  letter   .. \\n\\n5.   ,  --  send ...</td>\n",
              "    </tr>\n",
              "  </tbody>\n",
              "</table>\n",
              "</div>"
            ],
            "text/plain": [
              "           Product  ...                                                                                                                                                                                                                                                                                                                                                                                                                                                                                                                                                                                                                                                                                                                                                                                                                                                                                                                                                                                                                                    first\n",
              "0    Consumer Loan  ...   purchase  new car   .  car dealer call citizens bank  get  10 day payoff   loan, good till  .  dealer send  check  next day.   balance  checkbook   .  notice  citizens bank  take  automatic payment    check account     bank.  call citizens   state     close  loan   . ( state     receive  check  . . ).  tell      believe   check take  long  arrive.  tell   check  issue     amount overpaid,  deduct additional interest. today (  , )  call citizens bank   talk   supervisor name ,    .  receive  letter   loan   pay  full ( date ,  )   refund check  included.  state   hold   payment  10 business days   loan  satisfy    check would  mail   wed.  ..  question    delay  post  dealer payment   first state  sometimes  take 3  4 business days  post,   say    receive  check till     tell      believe   ask    money.   state   hold   payment  10 business days.  ask  ,   simply say    policy.  ask    would receive interest   money   state .  believe  citizens bank  deliberately delay  post  paym...\n",
              "1         Mortgage  ...                                                                                                                                                                                                                                                                                                                                                                                                                                                                                                        start  refinance  home mortgage process  cash  option  2016. necessary document  submit  .  initial review, get good faith estimate  loan amount  close cost. base   estimate,  deposit    make towards appraisal. appraisal come  lesser amount  . agree  reduce  loan amount   extent. however, get  revise estimate   less     additional close cost towards point etc.   get numerous revise estimate  different loan amount  close cost.  take   2 months  reach  definite close document. hence, want  get back  deposit  .\n",
              "2      Credit card  ...                                                                                                                                                                                                                                                                                 happy  card member  years,  late 2016  convert  card portfolio  barclaycard (  ).  almost never carry  balance ,   start     barclay   overcharge  interest expense every month. instead  charge interest   carry balance  charge    entire average balance.    charge  last month  carry   previous months   charge us 15 %    = ,      interest charges.   double dipping, get  interchange fee ( 1.5 %  purchase, equal   18 % apr ), plus   get  interest   purchase  15 %,    equivalent   33 % interest charge. \\n feel  practice   unethical,   illegal.  converted,    choice,    barclaycard mastercard,    leave  lose   point  acquire  previous years. completely unfair     big financials   hat reputation   . hope  folks    investigate.\n",
              "3      Credit card  ...                                                                                                                                                                                                                                                                                                                                                                                                                                                                                                                                                                                      without provocation,  receive notice   credit line   decrease  nearly 100 %.  available credit  reduce  $    (  rough amount   available balance ). \\n\\n  call  question  change,   provide  nob-descript response reference   report.    understand    fcra   entitle   copy   report,   refuse  citi    give   explanation. \\n\\n  predatory    affect  utilization  credit,  subject   increase  aprs, etc   higher cost  credit without  reason.\n",
              "4  Debt collection  ...    write  request  assistance  look   deceptive practice   collection law-firm .  appear    use tactics  may  violate consumer protection law  debt collection practice deprive consumers   right  dispute. \\n\\n1   ,  receive  notice    company,  next day,  contact  offices  instruct --  memo date  instruct   contact  plaintiff attorney,   court.  follow  instructions provide  contact  plaintiff attorney  phone  also fax  letter   dispute  debt ( see letter ). \\n\\n2.  company respond   letter date   send   bill   due date  .   request  bill show   balance  back   make  payment back     .   dispute  amount owed, dispute  charges. \\n\\n3.  write back   company  fax another dispute letter   ,  continue  dispute  amount owed. \\n\\n4.  company send   response   say   furnish   information,    dispute   owe  ,   dispute   balance  inaccurate    need proof   last know charge  activity   account    .   last paragraph   letter  indicate     dispute  amount  send  letter   .. \\n\\n5.   ,  --  send ...\n",
              "\n",
              "[5 rows x 4 columns]"
            ]
          },
          "metadata": {
            "tags": []
          },
          "execution_count": 27
        }
      ]
    },
    {
      "cell_type": "code",
      "metadata": {
        "id": "QCucqVzMmbrj",
        "colab_type": "code",
        "colab": {
          "base_uri": "https://localhost:8080/",
          "height": 1000
        },
        "outputId": "738dbd3a-1992-4ec2-af5a-63474d68c7cb"
      },
      "source": [
        "from sklearn.feature_selection import chi2\n",
        "import numpy as np\n",
        "for Product, category_id in sorted(category_codes.items()):\n",
        "    features_chi2 = chi2(features_train, labels_train == category_id)\n",
        "    indices = np.argsort(features_chi2[0])\n",
        "    feature_names = np.array(tfidf.get_feature_names())[indices]\n",
        "    unigrams = [v for v in feature_names if len(v.split(' ')) == 1]\n",
        "    bigrams = [v for v in feature_names if len(v.split(' ')) == 2]\n",
        "    print(\"# '{}' category:\".format(Product))\n",
        "    print(\"  . Most correlated unigrams:\\n. {}\".format('\\n. '.join(unigrams[-5:])))\n",
        "    print(\"  . Most correlated bigrams:\\n. {}\".format('\\n. '.join(bigrams[-2:])))\n",
        "    print(\"\")"
      ],
      "execution_count": null,
      "outputs": [
        {
          "output_type": "stream",
          "text": [
            "# 'Bank account or service' category:\n",
            "  . Most correlated unigrams:\n",
            ". dispute\n",
            ". remove\n",
            ". report\n",
            ". experian\n",
            ". equifax\n",
            "  . Most correlated bigrams:\n",
            ". well fargo\n",
            ". credit report\n",
            "\n",
            "# 'Consumer Loan' category:\n",
            "  . Most correlated unigrams:\n",
            ". financial\n",
            ". auto\n",
            ". finance\n",
            ". vehicle\n",
            ". car\n",
            "  . Most correlated bigrams:\n",
            ". student loan\n",
            ". credit card\n",
            "\n",
            "# 'Credit card' category:\n",
            "  . Most correlated unigrams:\n",
            ". owe\n",
            ". agency\n",
            ". collect\n",
            ". collection\n",
            ". debt\n",
            "  . Most correlated bigrams:\n",
            ". bank america\n",
            ". well fargo\n",
            "\n",
            "# 'Credit reporting' category:\n",
            "  . Most correlated unigrams:\n",
            ". house\n",
            ". home\n",
            ". property\n",
            ". modification\n",
            ". mortgage\n",
            "  . Most correlated bigrams:\n",
            ". credit report\n",
            ". credit card\n",
            "\n",
            "# 'Debt collection' category:\n",
            "  . Most correlated unigrams:\n",
            ". loan\n",
            ". charge\n",
            ". citi\n",
            ". capital\n",
            ". card\n",
            "  . Most correlated bigrams:\n",
            ". student loan\n",
            ". credit card\n",
            "\n",
            "# 'Mortgage' category:\n",
            "  . Most correlated unigrams:\n",
            ". end\n",
            ". email\n",
            ". due\n",
            ". document\n",
            ". yet\n",
            "  . Most correlated bigrams:\n",
            ". credit card\n",
            ". even though\n",
            "\n",
            "# 'Student loan' category:\n",
            "  . Most correlated unigrams:\n",
            ". debit\n",
            ". check\n",
            ". branch\n",
            ". bank\n",
            ". deposit\n",
            "  . Most correlated bigrams:\n",
            ". bank america\n",
            ". check account\n",
            "\n"
          ],
          "name": "stdout"
        }
      ]
    },
    {
      "cell_type": "code",
      "metadata": {
        "id": "gTUdIRg-nWxF",
        "colab_type": "code",
        "colab": {
          "base_uri": "https://localhost:8080/",
          "height": 238
        },
        "outputId": "d234f3ed-1db4-491b-d856-a52a7a57027f"
      },
      "source": [
        "bigrams"
      ],
      "execution_count": null,
      "outputs": [
        {
          "output_type": "execute_result",
          "data": {
            "text/plain": [
              "['call back',\n",
              " 'even though',\n",
              " 'phone call',\n",
              " 'credit card',\n",
              " 'make payment',\n",
              " 'credit score',\n",
              " 'make payments',\n",
              " 'customer service',\n",
              " 'student loan',\n",
              " 'credit report',\n",
              " 'well fargo',\n",
              " 'bank america',\n",
              " 'check account']"
            ]
          },
          "metadata": {
            "tags": []
          },
          "execution_count": 29
        }
      ]
    },
    {
      "cell_type": "code",
      "metadata": {
        "id": "kZu5dNZzy1Uq",
        "colab_type": "code",
        "colab": {
          "base_uri": "https://localhost:8080/",
          "height": 1000
        },
        "outputId": "b1aa3cf4-2dc3-4cc3-f4c0-a58c7e6e257a"
      },
      "source": [
        "unigrams"
      ],
      "execution_count": null,
      "outputs": [
        {
          "output_type": "execute_result",
          "data": {
            "text/plain": [
              "['matter',\n",
              " 'however',\n",
              " 'get',\n",
              " 'finally',\n",
              " 'yet',\n",
              " 'believe',\n",
              " 'need',\n",
              " 'feel',\n",
              " 'already',\n",
              " 'good',\n",
              " 'different',\n",
              " 'cancel',\n",
              " 'fact',\n",
              " 'capital',\n",
              " 'since',\n",
              " 'statements',\n",
              " 'receive',\n",
              " 'ago',\n",
              " 'ask',\n",
              " 'answer',\n",
              " 'number',\n",
              " 'understand',\n",
              " 'place',\n",
              " 'even',\n",
              " 'action',\n",
              " 'thank',\n",
              " 'make',\n",
              " 'additional',\n",
              " 'advise',\n",
              " 'purchase',\n",
              " 'stop',\n",
              " 'change',\n",
              " 'anything',\n",
              " 'balance',\n",
              " 'name',\n",
              " 'able',\n",
              " 'federal',\n",
              " 'set',\n",
              " 'help',\n",
              " 'several',\n",
              " 'unable',\n",
              " 'keep',\n",
              " 'though',\n",
              " 'much',\n",
              " 'practice',\n",
              " 'end',\n",
              " 'know',\n",
              " 'sign',\n",
              " 'attach',\n",
              " 'look',\n",
              " 'ca',\n",
              " 'right',\n",
              " 'notify',\n",
              " 'explain',\n",
              " 'first',\n",
              " 'form',\n",
              " 'want',\n",
              " 'response',\n",
              " 'term',\n",
              " 'find',\n",
              " 'office',\n",
              " 'also',\n",
              " 'mail',\n",
              " 'statement',\n",
              " 'phone',\n",
              " 'notice',\n",
              " 'consumer',\n",
              " 'result',\n",
              " 'legal',\n",
              " 'last',\n",
              " 'resolve',\n",
              " 'require',\n",
              " 'still',\n",
              " 'situation',\n",
              " 'speak',\n",
              " 'multiple',\n",
              " 'one',\n",
              " 'status',\n",
              " 'write',\n",
              " 'regard',\n",
              " 'live',\n",
              " 'time',\n",
              " 'error',\n",
              " 'many',\n",
              " 'immediately',\n",
              " 'may',\n",
              " 'people',\n",
              " 'review',\n",
              " 'supervisor',\n",
              " 'leave',\n",
              " 'like',\n",
              " 'bill',\n",
              " 'state',\n",
              " 'months',\n",
              " 'system',\n",
              " 'add',\n",
              " 'process',\n",
              " 'talk',\n",
              " 'today',\n",
              " 'service',\n",
              " 'per',\n",
              " 'refuse',\n",
              " 'follow',\n",
              " 'total',\n",
              " 'point',\n",
              " 'submit',\n",
              " 'way',\n",
              " 'note',\n",
              " 'provide',\n",
              " 'case',\n",
              " 'see',\n",
              " 'begin',\n",
              " 'inform',\n",
              " 'include',\n",
              " 'address',\n",
              " 'complaint',\n",
              " 'around',\n",
              " 'record',\n",
              " 'never',\n",
              " 'call',\n",
              " 'contact',\n",
              " 'attempt',\n",
              " 'think',\n",
              " 'amount',\n",
              " 'show',\n",
              " 'start',\n",
              " 'act',\n",
              " 'nothing',\n",
              " 'copy',\n",
              " 'try',\n",
              " 'every',\n",
              " 'deny',\n",
              " 'please',\n",
              " 'say',\n",
              " 'someone',\n",
              " 'base',\n",
              " 'complete',\n",
              " 'fail',\n",
              " '2015',\n",
              " 'two',\n",
              " 'come',\n",
              " 'line',\n",
              " 'take',\n",
              " 'offer',\n",
              " 'agree',\n",
              " 'week',\n",
              " 'email',\n",
              " 'would',\n",
              " 'new',\n",
              " 'representative',\n",
              " 'file',\n",
              " 'agreement',\n",
              " 'attorney',\n",
              " 'back',\n",
              " 'could',\n",
              " 'give',\n",
              " 'weeks',\n",
              " 'via',\n",
              " 'person',\n",
              " 'year',\n",
              " 'issue',\n",
              " 'next',\n",
              " 'tell',\n",
              " 'cause',\n",
              " '30',\n",
              " 'us',\n",
              " 'years',\n",
              " 'financial',\n",
              " 'put',\n",
              " 'send',\n",
              " 'verify',\n",
              " 'tax',\n",
              " 'monthly',\n",
              " 'application',\n",
              " 'personal',\n",
              " 'negative',\n",
              " 'fraudulent',\n",
              " 'correct',\n",
              " 'law',\n",
              " 'department',\n",
              " 'job',\n",
              " 'past',\n",
              " 'later',\n",
              " 'work',\n",
              " 'allow',\n",
              " 'month',\n",
              " 'within',\n",
              " 'problem',\n",
              " 'order',\n",
              " 'another',\n",
              " 'claim',\n",
              " 'day',\n",
              " 'document',\n",
              " 'documentation',\n",
              " 'security',\n",
              " 'proof',\n",
              " 'without',\n",
              " 'request',\n",
              " 'letter',\n",
              " 'reason',\n",
              " 'date',\n",
              " 'go',\n",
              " 'original',\n",
              " 'list',\n",
              " 'court',\n",
              " 'continue',\n",
              " 'program',\n",
              " 'auto',\n",
              " 'due',\n",
              " 'house',\n",
              " 'collect',\n",
              " 'happen',\n",
              " 'income',\n",
              " 'current',\n",
              " 'insurance',\n",
              " 'contract',\n",
              " 'card',\n",
              " 'information',\n",
              " 'property',\n",
              " 'sell',\n",
              " '2016',\n",
              " 'apply',\n",
              " 'full',\n",
              " 'plan',\n",
              " 'confirm',\n",
              " 'days',\n",
              " 'dispute',\n",
              " 'finance',\n",
              " 'rate',\n",
              " 'home',\n",
              " 'return',\n",
              " 'school',\n",
              " 'use',\n",
              " 'score',\n",
              " 'bankruptcy',\n",
              " 'car',\n",
              " 'vehicle',\n",
              " 'owe',\n",
              " 'pay',\n",
              " 'agency',\n",
              " 'wait',\n",
              " 'loans',\n",
              " 'bureaus',\n",
              " 'modification',\n",
              " 'experian',\n",
              " 'remove',\n",
              " 'online',\n",
              " 'well',\n",
              " 'late',\n",
              " 'interest',\n",
              " 'refund',\n",
              " 'fraud',\n",
              " 'transfer',\n",
              " 'citi',\n",
              " 'equifax',\n",
              " 'student',\n",
              " 'business',\n",
              " 'mortgage',\n",
              " 'manager',\n",
              " 'payment',\n",
              " 'company',\n",
              " 'collection',\n",
              " 'navient',\n",
              " 'payments',\n",
              " 'hold',\n",
              " 'charge',\n",
              " 'customer',\n",
              " 'credit',\n",
              " 'close',\n",
              " 'report',\n",
              " 'debt',\n",
              " 'cash',\n",
              " 'chase',\n",
              " 'fargo',\n",
              " 'loan',\n",
              " 'transaction',\n",
              " 'fee',\n",
              " 'america',\n",
              " 'open',\n",
              " 'money',\n",
              " 'account',\n",
              " 'fund',\n",
              " 'debit',\n",
              " 'check',\n",
              " 'branch',\n",
              " 'bank',\n",
              " 'deposit']"
            ]
          },
          "metadata": {
            "tags": []
          },
          "execution_count": 30
        }
      ]
    },
    {
      "cell_type": "code",
      "metadata": {
        "id": "S6lif28qSyGe",
        "colab_type": "code",
        "colab": {}
      },
      "source": [
        "from pprint import pprint\n",
        "from sklearn.model_selection import RandomizedSearchCV\n",
        "from sklearn.model_selection import GridSearchCV\n",
        "from sklearn.metrics import classification_report,confusion_matrix,accuracy_score\n",
        "from sklearn.model_selection import ShuffleSplit \n"
      ],
      "execution_count": null,
      "outputs": []
    },
    {
      "cell_type": "code",
      "metadata": {
        "id": "r2ObyTRG0WNd",
        "colab_type": "code",
        "colab": {}
      },
      "source": [
        "# Naive Bayes Classifier\n",
        "from sklearn.naive_bayes import MultinomialNB"
      ],
      "execution_count": null,
      "outputs": []
    },
    {
      "cell_type": "code",
      "metadata": {
        "id": "sS5BX-sUy-0T",
        "colab_type": "code",
        "colab": {
          "base_uri": "https://localhost:8080/",
          "height": 34
        },
        "outputId": "4edaaf1a-0b39-4988-d1aa-d3774dfab43b"
      },
      "source": [
        "mnbc = MultinomialNB()\n",
        "mnbc"
      ],
      "execution_count": null,
      "outputs": [
        {
          "output_type": "execute_result",
          "data": {
            "text/plain": [
              "MultinomialNB(alpha=1.0, class_prior=None, fit_prior=True)"
            ]
          },
          "metadata": {
            "tags": []
          },
          "execution_count": 33
        }
      ]
    },
    {
      "cell_type": "code",
      "metadata": {
        "id": "6RJn92UN0wNQ",
        "colab_type": "code",
        "colab": {
          "base_uri": "https://localhost:8080/",
          "height": 34
        },
        "outputId": "c5ecd67f-b9d4-4447-be9a-e3596ec2ff76"
      },
      "source": [
        "mnbc.fit(features_train, labels_train)"
      ],
      "execution_count": null,
      "outputs": [
        {
          "output_type": "execute_result",
          "data": {
            "text/plain": [
              "MultinomialNB(alpha=1.0, class_prior=None, fit_prior=True)"
            ]
          },
          "metadata": {
            "tags": []
          },
          "execution_count": 34
        }
      ]
    },
    {
      "cell_type": "code",
      "metadata": {
        "id": "Iwfzjmjs00IJ",
        "colab_type": "code",
        "colab": {}
      },
      "source": [
        "mnbc_pred = mnbc.predict(features_test)"
      ],
      "execution_count": null,
      "outputs": []
    },
    {
      "cell_type": "code",
      "metadata": {
        "id": "X6NFeJ_61QCa",
        "colab_type": "code",
        "colab": {
          "base_uri": "https://localhost:8080/",
          "height": 51
        },
        "outputId": "e8bce74c-53e5-4eda-b3aa-2599e5637435"
      },
      "source": [
        "print(\"The training accuracy is: \")\n",
        "print(accuracy_score(labels_train, mnbc.predict(features_train)))"
      ],
      "execution_count": null,
      "outputs": [
        {
          "output_type": "stream",
          "text": [
            "The training accuracy is: \n",
            "0.7716777132578646\n"
          ],
          "name": "stdout"
        }
      ]
    },
    {
      "cell_type": "code",
      "metadata": {
        "id": "L8Jgmd1p1WbR",
        "colab_type": "code",
        "colab": {
          "base_uri": "https://localhost:8080/",
          "height": 51
        },
        "outputId": "1d86ce6c-5bf5-4276-c275-8d588e166b6a"
      },
      "source": [
        "print(\"The test accuracy is: \")\n",
        "print(accuracy_score(labels_test, mnbc_pred))"
      ],
      "execution_count": null,
      "outputs": [
        {
          "output_type": "stream",
          "text": [
            "The test accuracy is: \n",
            "0.7728445747800586\n"
          ],
          "name": "stdout"
        }
      ]
    },
    {
      "cell_type": "code",
      "metadata": {
        "id": "K6f1Y5e91c2L",
        "colab_type": "code",
        "colab": {
          "base_uri": "https://localhost:8080/",
          "height": 272
        },
        "outputId": "beeb78e2-3f12-44ea-c483-c7354f63d0d1"
      },
      "source": [
        "print(\"Classification report\")\n",
        "print(classification_report(labels_test,mnbc_pred))"
      ],
      "execution_count": null,
      "outputs": [
        {
          "output_type": "stream",
          "text": [
            "Classification report\n",
            "              precision    recall  f1-score   support\n",
            "\n",
            "           0       0.70      0.79      0.74      2483\n",
            "           1       0.73      0.64      0.69      2312\n",
            "           2       0.71      0.71      0.71      2333\n",
            "           3       0.85      0.84      0.84      2427\n",
            "           4       0.75      0.73      0.74      2460\n",
            "           6       0.80      0.82      0.81      2489\n",
            "           7       0.87      0.86      0.86      2546\n",
            "\n",
            "    accuracy                           0.77     17050\n",
            "   macro avg       0.77      0.77      0.77     17050\n",
            "weighted avg       0.77      0.77      0.77     17050\n",
            "\n"
          ],
          "name": "stdout"
        }
      ]
    },
    {
      "cell_type": "code",
      "metadata": {
        "id": "n5S9_S-12DpP",
        "colab_type": "code",
        "colab": {}
      },
      "source": [
        "d = {\n",
        "     'Model': 'Multinomial Naïve Bayes',\n",
        "     'Training Set Accuracy': accuracy_score(labels_train, mnbc.predict(features_train)),\n",
        "     'Test Set Accuracy': accuracy_score(labels_test, mnbc_pred)\n",
        "}\n",
        "\n",
        "data_models_mnbc = pd.DataFrame(d, index=[0])"
      ],
      "execution_count": null,
      "outputs": []
    },
    {
      "cell_type": "code",
      "metadata": {
        "id": "hDVL66qM2jt5",
        "colab_type": "code",
        "colab": {
          "base_uri": "https://localhost:8080/",
          "height": 80
        },
        "outputId": "99c92926-c40a-4936-f811-ef3345fff620"
      },
      "source": [
        "data_models_mnbc"
      ],
      "execution_count": null,
      "outputs": [
        {
          "output_type": "execute_result",
          "data": {
            "text/html": [
              "<div>\n",
              "<style scoped>\n",
              "    .dataframe tbody tr th:only-of-type {\n",
              "        vertical-align: middle;\n",
              "    }\n",
              "\n",
              "    .dataframe tbody tr th {\n",
              "        vertical-align: top;\n",
              "    }\n",
              "\n",
              "    .dataframe thead th {\n",
              "        text-align: right;\n",
              "    }\n",
              "</style>\n",
              "<table border=\"1\" class=\"dataframe\">\n",
              "  <thead>\n",
              "    <tr style=\"text-align: right;\">\n",
              "      <th></th>\n",
              "      <th>Model</th>\n",
              "      <th>Training Set Accuracy</th>\n",
              "      <th>Test Set Accuracy</th>\n",
              "    </tr>\n",
              "  </thead>\n",
              "  <tbody>\n",
              "    <tr>\n",
              "      <th>0</th>\n",
              "      <td>Multinomial Naïve Bayes</td>\n",
              "      <td>0.771678</td>\n",
              "      <td>0.772845</td>\n",
              "    </tr>\n",
              "  </tbody>\n",
              "</table>\n",
              "</div>"
            ],
            "text/plain": [
              "                     Model  Training Set Accuracy  Test Set Accuracy\n",
              "0  Multinomial Naïve Bayes               0.771678           0.772845"
            ]
          },
          "metadata": {
            "tags": []
          },
          "execution_count": 40
        }
      ]
    },
    {
      "cell_type": "code",
      "metadata": {
        "id": "2y0sVRPX5VxR",
        "colab_type": "code",
        "colab": {
          "base_uri": "https://localhost:8080/",
          "height": 34
        },
        "outputId": "ba31a9bf-24ec-4b22-e4c0-4a7fdc7b223b"
      },
      "source": [
        "from sklearn.naive_bayes import GaussianNB\n",
        "\n",
        "gnbc= GaussianNB()\n",
        "gnbc"
      ],
      "execution_count": null,
      "outputs": [
        {
          "output_type": "execute_result",
          "data": {
            "text/plain": [
              "GaussianNB(priors=None, var_smoothing=1e-09)"
            ]
          },
          "metadata": {
            "tags": []
          },
          "execution_count": 41
        }
      ]
    },
    {
      "cell_type": "code",
      "metadata": {
        "id": "DM31VxR25vL0",
        "colab_type": "code",
        "colab": {
          "base_uri": "https://localhost:8080/",
          "height": 34
        },
        "outputId": "40da4339-4d69-47b5-a321-2bc644cd2b0d"
      },
      "source": [
        "gnbc.fit(features_train, labels_train)"
      ],
      "execution_count": null,
      "outputs": [
        {
          "output_type": "execute_result",
          "data": {
            "text/plain": [
              "GaussianNB(priors=None, var_smoothing=1e-09)"
            ]
          },
          "metadata": {
            "tags": []
          },
          "execution_count": 42
        }
      ]
    },
    {
      "cell_type": "code",
      "metadata": {
        "id": "hFoP6eb1574c",
        "colab_type": "code",
        "colab": {
          "base_uri": "https://localhost:8080/",
          "height": 85
        },
        "outputId": "9dd1619a-3a93-42ad-9c54-2073e441a7eb"
      },
      "source": [
        "gnbc_pred = gnbc.predict(features_test)\n",
        "\n",
        "print(\"The training accuracy is: \")\n",
        "print(accuracy_score(labels_train, gnbc.predict(features_train)))\n",
        "\n",
        "print(\"The test accuracy is: \")\n",
        "print(accuracy_score(labels_test, gnbc_pred))"
      ],
      "execution_count": null,
      "outputs": [
        {
          "output_type": "stream",
          "text": [
            "The training accuracy is: \n",
            "0.7311670283692103\n",
            "The test accuracy is: \n",
            "0.7328445747800586\n"
          ],
          "name": "stdout"
        }
      ]
    },
    {
      "cell_type": "code",
      "metadata": {
        "id": "0LWHrv3b6VmL",
        "colab_type": "code",
        "colab": {
          "base_uri": "https://localhost:8080/",
          "height": 272
        },
        "outputId": "706453cf-f5f8-46cf-eeac-eea742aa2bbe"
      },
      "source": [
        "print(\"Classification report\")\n",
        "print(classification_report(labels_test,gnbc_pred))"
      ],
      "execution_count": null,
      "outputs": [
        {
          "output_type": "stream",
          "text": [
            "Classification report\n",
            "              precision    recall  f1-score   support\n",
            "\n",
            "           0       0.65      0.80      0.72      2483\n",
            "           1       0.77      0.57      0.65      2312\n",
            "           2       0.69      0.58      0.63      2333\n",
            "           3       0.76      0.85      0.80      2427\n",
            "           4       0.66      0.72      0.69      2460\n",
            "           6       0.80      0.73      0.76      2489\n",
            "           7       0.83      0.86      0.84      2546\n",
            "\n",
            "    accuracy                           0.73     17050\n",
            "   macro avg       0.74      0.73      0.73     17050\n",
            "weighted avg       0.74      0.73      0.73     17050\n",
            "\n"
          ],
          "name": "stdout"
        }
      ]
    },
    {
      "cell_type": "code",
      "metadata": {
        "id": "9ODMtgJM6gdq",
        "colab_type": "code",
        "colab": {}
      },
      "source": [
        "d = {\n",
        "     'Model': 'Gaussian Naïve Bayes',\n",
        "     'Training Set Accuracy': accuracy_score(labels_train, gnbc.predict(features_train)),\n",
        "     'Test Set Accuracy': accuracy_score(labels_test, gnbc_pred)\n",
        "}\n",
        "\n",
        "data_models_gnbc = pd.DataFrame(d, index=[1])"
      ],
      "execution_count": null,
      "outputs": []
    },
    {
      "cell_type": "code",
      "metadata": {
        "id": "m0het2f56ys_",
        "colab_type": "code",
        "colab": {
          "base_uri": "https://localhost:8080/",
          "height": 80
        },
        "outputId": "a5320bc1-8248-486c-fe1f-08df61ed618f"
      },
      "source": [
        "data_models_gnbc"
      ],
      "execution_count": null,
      "outputs": [
        {
          "output_type": "execute_result",
          "data": {
            "text/html": [
              "<div>\n",
              "<style scoped>\n",
              "    .dataframe tbody tr th:only-of-type {\n",
              "        vertical-align: middle;\n",
              "    }\n",
              "\n",
              "    .dataframe tbody tr th {\n",
              "        vertical-align: top;\n",
              "    }\n",
              "\n",
              "    .dataframe thead th {\n",
              "        text-align: right;\n",
              "    }\n",
              "</style>\n",
              "<table border=\"1\" class=\"dataframe\">\n",
              "  <thead>\n",
              "    <tr style=\"text-align: right;\">\n",
              "      <th></th>\n",
              "      <th>Model</th>\n",
              "      <th>Training Set Accuracy</th>\n",
              "      <th>Test Set Accuracy</th>\n",
              "    </tr>\n",
              "  </thead>\n",
              "  <tbody>\n",
              "    <tr>\n",
              "      <th>1</th>\n",
              "      <td>Gaussian Naïve Bayes</td>\n",
              "      <td>0.731167</td>\n",
              "      <td>0.732845</td>\n",
              "    </tr>\n",
              "  </tbody>\n",
              "</table>\n",
              "</div>"
            ],
            "text/plain": [
              "                  Model  Training Set Accuracy  Test Set Accuracy\n",
              "1  Gaussian Naïve Bayes               0.731167           0.732845"
            ]
          },
          "metadata": {
            "tags": []
          },
          "execution_count": 46
        }
      ]
    },
    {
      "cell_type": "code",
      "metadata": {
        "id": "yIDRx6B8A6em",
        "colab_type": "code",
        "colab": {}
      },
      "source": [
        "# SVM\n",
        "from sklearn import svm"
      ],
      "execution_count": null,
      "outputs": []
    },
    {
      "cell_type": "code",
      "metadata": {
        "id": "sfSyeg3bBDe9",
        "colab_type": "code",
        "colab": {
          "base_uri": "https://localhost:8080/",
          "height": 85
        },
        "outputId": "1607877c-303d-4f8a-b812-382a8a06b66b"
      },
      "source": [
        "SVM = svm.SVC(C=1.0,kernel='linear',degree=3, gamma ='auto')\n",
        "SVM.fit(features_train, labels_train)\n",
        "pred_SVM=SVM.predict(features_test)\n",
        "\n",
        "print(\"The training accuracy is: \")\n",
        "print(accuracy_score(labels_train, SVM.predict(features_train)))\n",
        "\n",
        "print(\"The test accuracy is: \")\n",
        "print(accuracy_score(labels_test, pred_SVM))"
      ],
      "execution_count": null,
      "outputs": [
        {
          "output_type": "stream",
          "text": [
            "The training accuracy is: \n",
            "0.8162355563376151\n",
            "The test accuracy is: \n",
            "0.8013489736070382\n"
          ],
          "name": "stdout"
        }
      ]
    },
    {
      "cell_type": "code",
      "metadata": {
        "id": "yYhmhucYB6yc",
        "colab_type": "code",
        "colab": {
          "base_uri": "https://localhost:8080/",
          "height": 272
        },
        "outputId": "d0ad76ed-fd70-46ea-cf00-43942e9448c0"
      },
      "source": [
        "print(\"Classification report\")\n",
        "print(classification_report(labels_test,pred_SVM))"
      ],
      "execution_count": null,
      "outputs": [
        {
          "output_type": "stream",
          "text": [
            "Classification report\n",
            "              precision    recall  f1-score   support\n",
            "\n",
            "           0       0.74      0.80      0.77      2483\n",
            "           1       0.74      0.72      0.73      2312\n",
            "           2       0.71      0.75      0.73      2333\n",
            "           3       0.89      0.86      0.87      2427\n",
            "           4       0.78      0.77      0.78      2460\n",
            "           6       0.85      0.83      0.84      2489\n",
            "           7       0.91      0.86      0.89      2546\n",
            "\n",
            "    accuracy                           0.80     17050\n",
            "   macro avg       0.80      0.80      0.80     17050\n",
            "weighted avg       0.80      0.80      0.80     17050\n",
            "\n"
          ],
          "name": "stdout"
        }
      ]
    },
    {
      "cell_type": "code",
      "metadata": {
        "id": "a3deW1E0CHLJ",
        "colab_type": "code",
        "colab": {}
      },
      "source": [
        "d = {\n",
        "     'Model': 'Support Vector Machine',\n",
        "     'Training Set Accuracy': accuracy_score(labels_train, SVM.predict(features_train)),\n",
        "     'Test Set Accuracy': accuracy_score(labels_test, pred_SVM)\n",
        "}\n",
        "\n",
        "data_models_SVM = pd.DataFrame(d, index=[2])"
      ],
      "execution_count": null,
      "outputs": []
    },
    {
      "cell_type": "code",
      "metadata": {
        "id": "t2LbFgB4CVVf",
        "colab_type": "code",
        "colab": {
          "base_uri": "https://localhost:8080/",
          "height": 80
        },
        "outputId": "adab7baf-e564-4beb-e73b-b027eb71aa9b"
      },
      "source": [
        "data_models_SVM"
      ],
      "execution_count": null,
      "outputs": [
        {
          "output_type": "execute_result",
          "data": {
            "text/html": [
              "<div>\n",
              "<style scoped>\n",
              "    .dataframe tbody tr th:only-of-type {\n",
              "        vertical-align: middle;\n",
              "    }\n",
              "\n",
              "    .dataframe tbody tr th {\n",
              "        vertical-align: top;\n",
              "    }\n",
              "\n",
              "    .dataframe thead th {\n",
              "        text-align: right;\n",
              "    }\n",
              "</style>\n",
              "<table border=\"1\" class=\"dataframe\">\n",
              "  <thead>\n",
              "    <tr style=\"text-align: right;\">\n",
              "      <th></th>\n",
              "      <th>Model</th>\n",
              "      <th>Training Set Accuracy</th>\n",
              "      <th>Test Set Accuracy</th>\n",
              "    </tr>\n",
              "  </thead>\n",
              "  <tbody>\n",
              "    <tr>\n",
              "      <th>2</th>\n",
              "      <td>Support Vector Machine</td>\n",
              "      <td>0.816236</td>\n",
              "      <td>0.801349</td>\n",
              "    </tr>\n",
              "  </tbody>\n",
              "</table>\n",
              "</div>"
            ],
            "text/plain": [
              "                    Model  Training Set Accuracy  Test Set Accuracy\n",
              "2  Support Vector Machine               0.816236           0.801349"
            ]
          },
          "metadata": {
            "tags": []
          },
          "execution_count": 51
        }
      ]
    },
    {
      "cell_type": "code",
      "metadata": {
        "id": "ThccVCNcCX4B",
        "colab_type": "code",
        "colab": {}
      },
      "source": [
        "# Logistic Regression\n",
        "from sklearn.linear_model import LogisticRegression"
      ],
      "execution_count": null,
      "outputs": []
    },
    {
      "cell_type": "code",
      "metadata": {
        "id": "qzE2K2b5FLsk",
        "colab_type": "code",
        "colab": {
          "base_uri": "https://localhost:8080/",
          "height": 85
        },
        "outputId": "8da3a077-7fae-414b-e7e8-8dc2d53de0da"
      },
      "source": [
        "log_reg= LogisticRegression(verbose=1,solver='liblinear', random_state=0, C=5,max_iter=1000)\n",
        "log_reg.fit(features_train, labels_train)\n",
        "lr_pred=log_reg.predict(features_test)\n",
        "\n",
        "print(\"The training accuracy is: \")\n",
        "print(accuracy_score(labels_train, log_reg.predict(features_train)))\n",
        "\n",
        "print(\"The test accuracy is: \")\n",
        "print(accuracy_score(labels_test, lr_pred))"
      ],
      "execution_count": null,
      "outputs": [
        {
          "output_type": "stream",
          "text": [
            "[LibLinear]The training accuracy is: \n",
            "0.8114063385926839\n",
            "The test accuracy is: \n",
            "0.8056304985337244\n"
          ],
          "name": "stdout"
        }
      ]
    },
    {
      "cell_type": "code",
      "metadata": {
        "id": "rLB2YoLSFuaI",
        "colab_type": "code",
        "colab": {
          "base_uri": "https://localhost:8080/",
          "height": 272
        },
        "outputId": "e24dc53e-2471-4f92-85d5-63ba43bedd84"
      },
      "source": [
        "print(\"Classification report\")\n",
        "print(classification_report(labels_test, lr_pred))"
      ],
      "execution_count": null,
      "outputs": [
        {
          "output_type": "stream",
          "text": [
            "Classification report\n",
            "              precision    recall  f1-score   support\n",
            "\n",
            "           0       0.77      0.79      0.78      2483\n",
            "           1       0.76      0.71      0.73      2312\n",
            "           2       0.72      0.76      0.74      2333\n",
            "           3       0.88      0.88      0.88      2427\n",
            "           4       0.78      0.78      0.78      2460\n",
            "           6       0.83      0.85      0.84      2489\n",
            "           7       0.90      0.88      0.89      2546\n",
            "\n",
            "    accuracy                           0.81     17050\n",
            "   macro avg       0.81      0.80      0.80     17050\n",
            "weighted avg       0.81      0.81      0.81     17050\n",
            "\n"
          ],
          "name": "stdout"
        }
      ]
    },
    {
      "cell_type": "code",
      "metadata": {
        "id": "BMJvVSw_GQrk",
        "colab_type": "code",
        "colab": {
          "base_uri": "https://localhost:8080/",
          "height": 80
        },
        "outputId": "c224abd4-b21a-402e-bf3b-e08958eb6819"
      },
      "source": [
        "d = {\n",
        "     'Model': 'Logistic Regression',\n",
        "     'Training Set Accuracy': accuracy_score(labels_train, log_reg.predict(features_train)),\n",
        "     'Test Set Accuracy': accuracy_score(labels_test, lr_pred)\n",
        "}\n",
        "\n",
        "data_models_lr = pd.DataFrame(d, index=[3])\n",
        "\n",
        "data_models_lr"
      ],
      "execution_count": null,
      "outputs": [
        {
          "output_type": "execute_result",
          "data": {
            "text/html": [
              "<div>\n",
              "<style scoped>\n",
              "    .dataframe tbody tr th:only-of-type {\n",
              "        vertical-align: middle;\n",
              "    }\n",
              "\n",
              "    .dataframe tbody tr th {\n",
              "        vertical-align: top;\n",
              "    }\n",
              "\n",
              "    .dataframe thead th {\n",
              "        text-align: right;\n",
              "    }\n",
              "</style>\n",
              "<table border=\"1\" class=\"dataframe\">\n",
              "  <thead>\n",
              "    <tr style=\"text-align: right;\">\n",
              "      <th></th>\n",
              "      <th>Model</th>\n",
              "      <th>Training Set Accuracy</th>\n",
              "      <th>Test Set Accuracy</th>\n",
              "    </tr>\n",
              "  </thead>\n",
              "  <tbody>\n",
              "    <tr>\n",
              "      <th>3</th>\n",
              "      <td>Logistic Regression</td>\n",
              "      <td>0.811406</td>\n",
              "      <td>0.80563</td>\n",
              "    </tr>\n",
              "  </tbody>\n",
              "</table>\n",
              "</div>"
            ],
            "text/plain": [
              "                 Model  Training Set Accuracy  Test Set Accuracy\n",
              "3  Logistic Regression               0.811406            0.80563"
            ]
          },
          "metadata": {
            "tags": []
          },
          "execution_count": 55
        }
      ]
    },
    {
      "cell_type": "code",
      "metadata": {
        "id": "ocTG-FzkGglY",
        "colab_type": "code",
        "colab": {}
      },
      "source": [
        "# Decision Tree\n",
        "from sklearn.tree import DecisionTreeClassifier"
      ],
      "execution_count": null,
      "outputs": []
    },
    {
      "cell_type": "code",
      "metadata": {
        "id": "fQk5cpFwGuuj",
        "colab_type": "code",
        "colab": {
          "base_uri": "https://localhost:8080/",
          "height": 85
        },
        "outputId": "44a1a1ec-42d1-47a1-abe1-d60c2e7551ad"
      },
      "source": [
        "dt=DecisionTreeClassifier()\n",
        "dt.fit(features_train, labels_train)\n",
        "dt_pred=dt.predict(features_test)\n",
        "\n",
        "print(\"The training accuracy is: \")\n",
        "print(accuracy_score(labels_train, dt.predict(features_train)))\n",
        "\n",
        "print(\"The test accuracy is: \")\n",
        "print(accuracy_score(labels_test, dt_pred))"
      ],
      "execution_count": null,
      "outputs": [
        {
          "output_type": "stream",
          "text": [
            "The training accuracy is: \n",
            "0.9983772264257923\n",
            "The test accuracy is: \n",
            "0.6929618768328446\n"
          ],
          "name": "stdout"
        }
      ]
    },
    {
      "cell_type": "code",
      "metadata": {
        "id": "JkFKIhPrHMc8",
        "colab_type": "code",
        "colab": {
          "base_uri": "https://localhost:8080/",
          "height": 272
        },
        "outputId": "9ec8279f-547d-4f95-fac2-368bade4486c"
      },
      "source": [
        "print(\"Classification report\")\n",
        "print(classification_report(labels_test, dt_pred))"
      ],
      "execution_count": null,
      "outputs": [
        {
          "output_type": "stream",
          "text": [
            "Classification report\n",
            "              precision    recall  f1-score   support\n",
            "\n",
            "           0       0.69      0.71      0.70      2483\n",
            "           1       0.60      0.62      0.61      2312\n",
            "           2       0.59      0.58      0.58      2333\n",
            "           3       0.79      0.77      0.78      2427\n",
            "           4       0.65      0.64      0.65      2460\n",
            "           6       0.71      0.72      0.72      2489\n",
            "           7       0.81      0.80      0.80      2546\n",
            "\n",
            "    accuracy                           0.69     17050\n",
            "   macro avg       0.69      0.69      0.69     17050\n",
            "weighted avg       0.69      0.69      0.69     17050\n",
            "\n"
          ],
          "name": "stdout"
        }
      ]
    },
    {
      "cell_type": "code",
      "metadata": {
        "id": "tmnb2wQzIwxO",
        "colab_type": "code",
        "colab": {
          "base_uri": "https://localhost:8080/",
          "height": 80
        },
        "outputId": "3081fbf0-7422-4f17-cae1-207035632563"
      },
      "source": [
        "d = {\n",
        "     'Model': 'Decision Tree',\n",
        "     'Training Set Accuracy': accuracy_score(labels_train, dt.predict(features_train)),\n",
        "     'Test Set Accuracy': accuracy_score(labels_test, dt_pred)\n",
        "}\n",
        "\n",
        "data_models_dt = pd.DataFrame(d, index=[4])\n",
        "\n",
        "data_models_dt"
      ],
      "execution_count": null,
      "outputs": [
        {
          "output_type": "execute_result",
          "data": {
            "text/html": [
              "<div>\n",
              "<style scoped>\n",
              "    .dataframe tbody tr th:only-of-type {\n",
              "        vertical-align: middle;\n",
              "    }\n",
              "\n",
              "    .dataframe tbody tr th {\n",
              "        vertical-align: top;\n",
              "    }\n",
              "\n",
              "    .dataframe thead th {\n",
              "        text-align: right;\n",
              "    }\n",
              "</style>\n",
              "<table border=\"1\" class=\"dataframe\">\n",
              "  <thead>\n",
              "    <tr style=\"text-align: right;\">\n",
              "      <th></th>\n",
              "      <th>Model</th>\n",
              "      <th>Training Set Accuracy</th>\n",
              "      <th>Test Set Accuracy</th>\n",
              "    </tr>\n",
              "  </thead>\n",
              "  <tbody>\n",
              "    <tr>\n",
              "      <th>4</th>\n",
              "      <td>Decision Tree</td>\n",
              "      <td>0.998377</td>\n",
              "      <td>0.692962</td>\n",
              "    </tr>\n",
              "  </tbody>\n",
              "</table>\n",
              "</div>"
            ],
            "text/plain": [
              "           Model  Training Set Accuracy  Test Set Accuracy\n",
              "4  Decision Tree               0.998377           0.692962"
            ]
          },
          "metadata": {
            "tags": []
          },
          "execution_count": 59
        }
      ]
    },
    {
      "cell_type": "code",
      "metadata": {
        "id": "Ls01DJV7JzGw",
        "colab_type": "code",
        "colab": {}
      },
      "source": [
        "data_models_results=data_models_mnbc.append(data_models_gnbc.append(data_models_SVM.append(data_models_lr.append(data_models_dt))))"
      ],
      "execution_count": null,
      "outputs": []
    },
    {
      "cell_type": "code",
      "metadata": {
        "id": "oznUhR0MKoCk",
        "colab_type": "code",
        "colab": {
          "base_uri": "https://localhost:8080/",
          "height": 204
        },
        "outputId": "27c1f923-0d8a-44b0-900c-95b0bc1a6b92"
      },
      "source": [
        "data_models_results"
      ],
      "execution_count": null,
      "outputs": [
        {
          "output_type": "execute_result",
          "data": {
            "text/html": [
              "<div>\n",
              "<style scoped>\n",
              "    .dataframe tbody tr th:only-of-type {\n",
              "        vertical-align: middle;\n",
              "    }\n",
              "\n",
              "    .dataframe tbody tr th {\n",
              "        vertical-align: top;\n",
              "    }\n",
              "\n",
              "    .dataframe thead th {\n",
              "        text-align: right;\n",
              "    }\n",
              "</style>\n",
              "<table border=\"1\" class=\"dataframe\">\n",
              "  <thead>\n",
              "    <tr style=\"text-align: right;\">\n",
              "      <th></th>\n",
              "      <th>Model</th>\n",
              "      <th>Training Set Accuracy</th>\n",
              "      <th>Test Set Accuracy</th>\n",
              "    </tr>\n",
              "  </thead>\n",
              "  <tbody>\n",
              "    <tr>\n",
              "      <th>0</th>\n",
              "      <td>Multinomial Naïve Bayes</td>\n",
              "      <td>0.771678</td>\n",
              "      <td>0.772845</td>\n",
              "    </tr>\n",
              "    <tr>\n",
              "      <th>1</th>\n",
              "      <td>Gaussian Naïve Bayes</td>\n",
              "      <td>0.731167</td>\n",
              "      <td>0.732845</td>\n",
              "    </tr>\n",
              "    <tr>\n",
              "      <th>2</th>\n",
              "      <td>Support Vector Machine</td>\n",
              "      <td>0.816236</td>\n",
              "      <td>0.801349</td>\n",
              "    </tr>\n",
              "    <tr>\n",
              "      <th>3</th>\n",
              "      <td>Logistic Regression</td>\n",
              "      <td>0.811406</td>\n",
              "      <td>0.805630</td>\n",
              "    </tr>\n",
              "    <tr>\n",
              "      <th>4</th>\n",
              "      <td>Decision Tree</td>\n",
              "      <td>0.998377</td>\n",
              "      <td>0.692962</td>\n",
              "    </tr>\n",
              "  </tbody>\n",
              "</table>\n",
              "</div>"
            ],
            "text/plain": [
              "                     Model  Training Set Accuracy  Test Set Accuracy\n",
              "0  Multinomial Naïve Bayes               0.771678           0.772845\n",
              "1     Gaussian Naïve Bayes               0.731167           0.732845\n",
              "2   Support Vector Machine               0.816236           0.801349\n",
              "3      Logistic Regression               0.811406           0.805630\n",
              "4            Decision Tree               0.998377           0.692962"
            ]
          },
          "metadata": {
            "tags": []
          },
          "execution_count": 61
        }
      ]
    },
    {
      "cell_type": "code",
      "metadata": {
        "id": "0hU89eHb5k1K",
        "colab_type": "code",
        "colab": {}
      },
      "source": [
        ""
      ],
      "execution_count": null,
      "outputs": []
    }
  ]
}