{
  "nbformat": 4,
  "nbformat_minor": 0,
  "metadata": {
    "colab": {
      "name": "data_cleaning.ipynb",
      "provenance": [],
      "collapsed_sections": []
    },
    "kernelspec": {
      "name": "python3",
      "display_name": "Python 3"
    },
    "accelerator": "TPU"
  },
  "cells": [
    {
      "cell_type": "code",
      "metadata": {
        "id": "gMZnMzlJpMRk",
        "colab_type": "code",
        "colab": {}
      },
      "source": [
        "!pip install -U -q PyDrive\n",
        "from pydrive.auth import GoogleAuth\n",
        "from pydrive.drive import GoogleDrive\n",
        "from google.colab import auth\n",
        "from oauth2client.client import GoogleCredentials"
      ],
      "execution_count": null,
      "outputs": []
    },
    {
      "cell_type": "code",
      "metadata": {
        "id": "f8XPE8xrpXkY",
        "colab_type": "code",
        "colab": {}
      },
      "source": [
        "auth.authenticate_user()\n",
        "gauth = GoogleAuth()\n",
        "gauth.credentials = GoogleCredentials.get_application_default()\n",
        "drive = GoogleDrive(gauth)"
      ],
      "execution_count": null,
      "outputs": []
    },
    {
      "cell_type": "code",
      "metadata": {
        "id": "W7fTUhxYqr-u",
        "colab_type": "code",
        "colab": {}
      },
      "source": [
        "link = 'https://drive.google.com/open?id=152gVd_8Rn6y-PIWpfFFMxGA0k127TslL'"
      ],
      "execution_count": null,
      "outputs": []
    },
    {
      "cell_type": "code",
      "metadata": {
        "id": "8tqgOcpmqvNz",
        "colab_type": "code",
        "colab": {
          "base_uri": "https://localhost:8080/",
          "height": 34
        },
        "outputId": "8521f9f8-cd22-4c55-b77f-b62d40c7afce"
      },
      "source": [
        "fluff, id = link.split('=')\n",
        "print (id)"
      ],
      "execution_count": null,
      "outputs": [
        {
          "output_type": "stream",
          "text": [
            "152gVd_8Rn6y-PIWpfFFMxGA0k127TslL\n"
          ],
          "name": "stdout"
        }
      ]
    },
    {
      "cell_type": "code",
      "metadata": {
        "id": "9w_I0_nRq1fG",
        "colab_type": "code",
        "colab": {}
      },
      "source": [
        "downloaded = drive.CreateFile({'id':id}) \n",
        "downloaded.GetContentFile('Consumer_Complaints.csv')  "
      ],
      "execution_count": null,
      "outputs": []
    },
    {
      "cell_type": "code",
      "metadata": {
        "id": "R6mqN5xPoAI9",
        "colab_type": "code",
        "colab": {}
      },
      "source": [
        "import numpy as np\n",
        "import pandas as pd"
      ],
      "execution_count": null,
      "outputs": []
    },
    {
      "cell_type": "code",
      "metadata": {
        "id": "FhRwkcjF_lxm",
        "colab_type": "code",
        "colab": {
          "base_uri": "https://localhost:8080/",
          "height": 481
        },
        "outputId": "7820ceee-0d91-4fc6-9b73-6ba95302bf38"
      },
      "source": [
        "fields= ['Product','Consumer complaint narrative']\n",
        "data = pd.read_csv('Consumer_Complaints.csv', usecols=fields)\n",
        "data = data[pd.notnull(data['Consumer complaint narrative'])]\n",
        "data.columns = ['Product', 'Narrative']\n",
        "data['category_id'] = data['Product'].factorize()[0]\n",
        "category_id_data = data[['Product', 'category_id']].drop_duplicates().sort_values('category_id')\n",
        "category_to_id = dict(category_id_data.values)\n",
        "id_to_category = dict(category_id_data[['category_id', 'Product']].values)\n",
        "data.head()"
      ],
      "execution_count": null,
      "outputs": [
        {
          "output_type": "execute_result",
          "data": {
            "text/html": [
              "<div>\n",
              "<style scoped>\n",
              "    .dataframe tbody tr th:only-of-type {\n",
              "        vertical-align: middle;\n",
              "    }\n",
              "\n",
              "    .dataframe tbody tr th {\n",
              "        vertical-align: top;\n",
              "    }\n",
              "\n",
              "    .dataframe thead th {\n",
              "        text-align: right;\n",
              "    }\n",
              "</style>\n",
              "<table border=\"1\" class=\"dataframe\">\n",
              "  <thead>\n",
              "    <tr style=\"text-align: right;\">\n",
              "      <th></th>\n",
              "      <th>Product</th>\n",
              "      <th>Narrative</th>\n",
              "      <th>category_id</th>\n",
              "    </tr>\n",
              "  </thead>\n",
              "  <tbody>\n",
              "    <tr>\n",
              "      <th>1</th>\n",
              "      <td>Credit reporting</td>\n",
              "      <td>I have outdated information on my credit report that I have previously disputed that has yet to be removed this information is more then seven years old and does not meet credit reporting requirements</td>\n",
              "      <td>0</td>\n",
              "    </tr>\n",
              "    <tr>\n",
              "      <th>2</th>\n",
              "      <td>Consumer Loan</td>\n",
              "      <td>I purchased a new car on XXXX XXXX. The car dealer called Citizens Bank to get a 10 day payoff on my loan, good till XXXX XXXX. The dealer sent the check the next day. When I balanced my checkbook on XXXX XXXX. I noticed that Citizens bank had taken the automatic payment out of my checking account at XXXX XXXX XXXX Bank. I called Citizens and they stated that they did not close the loan until XXXX XXXX. ( stating that they did not receive the check until XXXX. XXXX. ). I told them that I did not believe that the check took that long to arrive. XXXX told me a check was issued to me for the amount overpaid, they deducted additional interest. Today ( XXXX XXXX, ) I called Citizens Bank again and talked to a supervisor named XXXX, because on XXXX XXXX. I received a letter that the loan had been paid in full ( dated XXXX, XXXX ) but no refund check was included. XXXX stated that they hold any over payment for 10 business days after the loan was satisfied and that my check would be maile...</td>\n",
              "      <td>1</td>\n",
              "    </tr>\n",
              "    <tr>\n",
              "      <th>7</th>\n",
              "      <td>Credit reporting</td>\n",
              "      <td>An account on my credit report has a mistaken date. I mailed in a debt validation letter to allow XXXX to correct the information. I received a letter in the mail, stating that Experian received my correspondence and found it to be \" suspicious '' and that \" I did n't write it ''. Experian 's letter is worded to imply that I am incapable of writing my own letter. I was deeply offended by this implication. \\nI called Experian to figure out why my letter was so suspicious. I spoke to a representative who was incredibly unhelpful, She did not effectively answer any questions I asked of her, and she kept ignoring what I was saying regarding the offensive letter and my dispute process. I feel the representative did what she wanted to do, and I am not satisfied. It is STILL not clear to me why I received this letter. I typed this letter, I signed this letter, and I paid to mail this letter, yet Experian willfully disregarded my lawful request. \\nI am disgusted with this entire situation,...</td>\n",
              "      <td>0</td>\n",
              "    </tr>\n",
              "    <tr>\n",
              "      <th>12</th>\n",
              "      <td>Debt collection</td>\n",
              "      <td>This company refuses to provide me verification and validation of debt per my right under the FDCPA. I do not believe this debt is mine.</td>\n",
              "      <td>2</td>\n",
              "    </tr>\n",
              "    <tr>\n",
              "      <th>16</th>\n",
              "      <td>Debt collection</td>\n",
              "      <td>This complaint is in regards to Square Two Financial. Refer to CFPB case number XXXX regarding CACH, L. L. C. Square Two Financial has utilized my entire social security number to include date of birth on the pfd document listed with this complaint. The initial complaint was with CACH, L. L. C. and not Square Two Financial. This is in breach of the following : 1. Identity Theft Assumption and Deterrence Act of XXXX 2. Privacy Act of XXXX XXXX. Social Security XXXX 4. XXXX Privacy Act-which carries a maximum XXXX fine for each calendar cap year. \\n5. Breach of Title XXXX, XXXX XXXX XXXX XXXX under XXXX and XXXX The solution is to have CACH, L.L.C handle this correction and not Square Two Financial. Two Square Financial submitted the XXXX XXXX XXXX with their subscriber name on the form listed on CFPB case # XXXX they are rendered liable in this matter. In addition, there is an account number associated with this Universal Data Form and they could use that account number instead of a...</td>\n",
              "      <td>2</td>\n",
              "    </tr>\n",
              "  </tbody>\n",
              "</table>\n",
              "</div>"
            ],
            "text/plain": [
              "             Product  ... category_id\n",
              "1   Credit reporting  ...           0\n",
              "2      Consumer Loan  ...           1\n",
              "7   Credit reporting  ...           0\n",
              "12   Debt collection  ...           2\n",
              "16   Debt collection  ...           2\n",
              "\n",
              "[5 rows x 3 columns]"
            ]
          },
          "metadata": {
            "tags": []
          },
          "execution_count": 25
        }
      ]
    },
    {
      "cell_type": "code",
      "metadata": {
        "id": "kC_CyF5wAMjQ",
        "colab_type": "code",
        "colab": {
          "base_uri": "https://localhost:8080/",
          "height": 464
        },
        "outputId": "265862e6-b86a-4f61-e3b6-769cef80e76c"
      },
      "source": [
        "pd.set_option('max_colwidth', 1000)\n",
        "data['Narrative'] = data['Narrative'].str.lower()\n",
        "data.head()"
      ],
      "execution_count": null,
      "outputs": [
        {
          "output_type": "execute_result",
          "data": {
            "text/html": [
              "<div>\n",
              "<style scoped>\n",
              "    .dataframe tbody tr th:only-of-type {\n",
              "        vertical-align: middle;\n",
              "    }\n",
              "\n",
              "    .dataframe tbody tr th {\n",
              "        vertical-align: top;\n",
              "    }\n",
              "\n",
              "    .dataframe thead th {\n",
              "        text-align: right;\n",
              "    }\n",
              "</style>\n",
              "<table border=\"1\" class=\"dataframe\">\n",
              "  <thead>\n",
              "    <tr style=\"text-align: right;\">\n",
              "      <th></th>\n",
              "      <th>Product</th>\n",
              "      <th>Narrative</th>\n",
              "      <th>category_id</th>\n",
              "    </tr>\n",
              "  </thead>\n",
              "  <tbody>\n",
              "    <tr>\n",
              "      <th>1</th>\n",
              "      <td>Credit reporting</td>\n",
              "      <td>i have outdated information on my credit report that i have previously disputed that has yet to be removed this information is more then seven years old and does not meet credit reporting requirements</td>\n",
              "      <td>0</td>\n",
              "    </tr>\n",
              "    <tr>\n",
              "      <th>2</th>\n",
              "      <td>Consumer Loan</td>\n",
              "      <td>i purchased a new car on xxxx xxxx. the car dealer called citizens bank to get a 10 day payoff on my loan, good till xxxx xxxx. the dealer sent the check the next day. when i balanced my checkbook on xxxx xxxx. i noticed that citizens bank had taken the automatic payment out of my checking account at xxxx xxxx xxxx bank. i called citizens and they stated that they did not close the loan until xxxx xxxx. ( stating that they did not receive the check until xxxx. xxxx. ). i told them that i did not believe that the check took that long to arrive. xxxx told me a check was issued to me for the amount overpaid, they deducted additional interest. today ( xxxx xxxx, ) i called citizens bank again and talked to a supervisor named xxxx, because on xxxx xxxx. i received a letter that the loan had been paid in full ( dated xxxx, xxxx ) but no refund check was included. xxxx stated that they hold any over payment for 10 business days after the loan was satisfied and that my check would be maile...</td>\n",
              "      <td>1</td>\n",
              "    </tr>\n",
              "    <tr>\n",
              "      <th>7</th>\n",
              "      <td>Credit reporting</td>\n",
              "      <td>an account on my credit report has a mistaken date. i mailed in a debt validation letter to allow xxxx to correct the information. i received a letter in the mail, stating that experian received my correspondence and found it to be \" suspicious '' and that \" i did n't write it ''. experian 's letter is worded to imply that i am incapable of writing my own letter. i was deeply offended by this implication. \\ni called experian to figure out why my letter was so suspicious. i spoke to a representative who was incredibly unhelpful, she did not effectively answer any questions i asked of her, and she kept ignoring what i was saying regarding the offensive letter and my dispute process. i feel the representative did what she wanted to do, and i am not satisfied. it is still not clear to me why i received this letter. i typed this letter, i signed this letter, and i paid to mail this letter, yet experian willfully disregarded my lawful request. \\ni am disgusted with this entire situation,...</td>\n",
              "      <td>0</td>\n",
              "    </tr>\n",
              "    <tr>\n",
              "      <th>12</th>\n",
              "      <td>Debt collection</td>\n",
              "      <td>this company refuses to provide me verification and validation of debt per my right under the fdcpa. i do not believe this debt is mine.</td>\n",
              "      <td>2</td>\n",
              "    </tr>\n",
              "    <tr>\n",
              "      <th>16</th>\n",
              "      <td>Debt collection</td>\n",
              "      <td>this complaint is in regards to square two financial. refer to cfpb case number xxxx regarding cach, l. l. c. square two financial has utilized my entire social security number to include date of birth on the pfd document listed with this complaint. the initial complaint was with cach, l. l. c. and not square two financial. this is in breach of the following : 1. identity theft assumption and deterrence act of xxxx 2. privacy act of xxxx xxxx. social security xxxx 4. xxxx privacy act-which carries a maximum xxxx fine for each calendar cap year. \\n5. breach of title xxxx, xxxx xxxx xxxx xxxx under xxxx and xxxx the solution is to have cach, l.l.c handle this correction and not square two financial. two square financial submitted the xxxx xxxx xxxx with their subscriber name on the form listed on cfpb case # xxxx they are rendered liable in this matter. in addition, there is an account number associated with this universal data form and they could use that account number instead of a...</td>\n",
              "      <td>2</td>\n",
              "    </tr>\n",
              "  </tbody>\n",
              "</table>\n",
              "</div>"
            ],
            "text/plain": [
              "             Product  ... category_id\n",
              "1   Credit reporting  ...           0\n",
              "2      Consumer Loan  ...           1\n",
              "7   Credit reporting  ...           0\n",
              "12   Debt collection  ...           2\n",
              "16   Debt collection  ...           2\n",
              "\n",
              "[5 rows x 3 columns]"
            ]
          },
          "metadata": {
            "tags": []
          },
          "execution_count": 26
        }
      ]
    },
    {
      "cell_type": "code",
      "metadata": {
        "id": "rdDxrwQX3e2G",
        "colab_type": "code",
        "colab": {
          "base_uri": "https://localhost:8080/",
          "height": 772
        },
        "outputId": "80b81634-10a8-440b-f662-3a287d68d4c5"
      },
      "source": [
        "import matplotlib.pyplot as plt\n",
        "fig = plt.figure(figsize=(10,6))\n",
        "data.groupby('Product').Narrative.count().plot.bar(ylim=0)\n",
        "plt.show()\n",
        "print(\"Shape of data{}\".format(data.shape))"
      ],
      "execution_count": null,
      "outputs": [
        {
          "output_type": "display_data",
          "data": {
            "image/png": "[encoded data removed]",
            "text/plain": [
              "<Figure size 720x432 with 1 Axes>"
            ]
          },
          "metadata": {
            "tags": []
          }
        },
        {
          "output_type": "stream",
          "text": [
            "Shape of data(199970, 3)\n"
          ],
          "name": "stdout"
        }
      ]
    },
    {
      "cell_type": "code",
      "metadata": {
        "id": "i9L_nG3Hrxzu",
        "colab_type": "code",
        "colab": {
          "base_uri": "https://localhost:8080/",
          "height": 238
        },
        "outputId": "870c527d-0bf3-4f9f-87b6-b32f19150673"
      },
      "source": [
        "data.drop(data[data['Product']=='Virtual currency'].index , inplace=True)\n",
        "data.drop(data[data['Product']=='Vehicle loan or lease'].index , inplace=True)\n",
        "data.drop(data[data['Product']=='Prepaid card'].index , inplace=True)\n",
        "data.drop(data[data['Product']=='Payday loan, title loan, or personal loan'].index , inplace=True)\n",
        "data.drop(data[data['Product']=='Payday loan'].index , inplace=True)\n",
        "data.drop(data[data['Product']=='Other financial service'].index , inplace=True)\n",
        "data.drop(data[data['Product']=='Money transfers'].index , inplace=True)\n",
        "data.drop(data[data['Product']=='Money transfer, virtual currency, or money service'].index , inplace=True)\n",
        "data.drop(data[data['Product']=='Credit card or prepaid card'].index , inplace=True)\n",
        "data.drop(data[data['Product']=='Checking or savings account'].index , inplace=True)\n",
        "data.drop(data[data['Product']=='Credit reporting, credit repair services, or other personal consumer reports'].index , inplace=True)"
      ],
      "execution_count": null,
      "outputs": [
        {
          "output_type": "error",
          "ename": "NameError",
          "evalue": "ignored",
          "traceback": [
            "\u001b[0;31m---------------------------------------------------------------------------\u001b[0m",
            "\u001b[0;31mNameError\u001b[0m                                 Traceback (most recent call last)",
            "\u001b[0;32m<ipython-input-2-4b22bcc08594>\u001b[0m in \u001b[0;36m<module>\u001b[0;34m()\u001b[0m\n\u001b[0;32m----> 1\u001b[0;31m \u001b[0mdata\u001b[0m\u001b[0;34m.\u001b[0m\u001b[0mdrop\u001b[0m\u001b[0;34m(\u001b[0m\u001b[0mdata\u001b[0m\u001b[0;34m[\u001b[0m\u001b[0mdata\u001b[0m\u001b[0;34m[\u001b[0m\u001b[0;34m'Product'\u001b[0m\u001b[0;34m]\u001b[0m\u001b[0;34m==\u001b[0m\u001b[0;34m'Virtual currency'\u001b[0m\u001b[0;34m]\u001b[0m\u001b[0;34m.\u001b[0m\u001b[0mindex\u001b[0m \u001b[0;34m,\u001b[0m \u001b[0minplace\u001b[0m\u001b[0;34m=\u001b[0m\u001b[0;32mTrue\u001b[0m\u001b[0;34m)\u001b[0m\u001b[0;34m\u001b[0m\u001b[0;34m\u001b[0m\u001b[0m\n\u001b[0m\u001b[1;32m      2\u001b[0m \u001b[0mdata\u001b[0m\u001b[0;34m.\u001b[0m\u001b[0mdrop\u001b[0m\u001b[0;34m(\u001b[0m\u001b[0mdata\u001b[0m\u001b[0;34m[\u001b[0m\u001b[0mdata\u001b[0m\u001b[0;34m[\u001b[0m\u001b[0;34m'Product'\u001b[0m\u001b[0;34m]\u001b[0m\u001b[0;34m==\u001b[0m\u001b[0;34m'Vehicle loan or lease'\u001b[0m\u001b[0;34m]\u001b[0m\u001b[0;34m.\u001b[0m\u001b[0mindex\u001b[0m \u001b[0;34m,\u001b[0m \u001b[0minplace\u001b[0m\u001b[0;34m=\u001b[0m\u001b[0;32mTrue\u001b[0m\u001b[0;34m)\u001b[0m\u001b[0;34m\u001b[0m\u001b[0;34m\u001b[0m\u001b[0m\n\u001b[1;32m      3\u001b[0m \u001b[0mdata\u001b[0m\u001b[0;34m.\u001b[0m\u001b[0mdrop\u001b[0m\u001b[0;34m(\u001b[0m\u001b[0mdata\u001b[0m\u001b[0;34m[\u001b[0m\u001b[0mdata\u001b[0m\u001b[0;34m[\u001b[0m\u001b[0;34m'Product'\u001b[0m\u001b[0;34m]\u001b[0m\u001b[0;34m==\u001b[0m\u001b[0;34m'Prepaid card'\u001b[0m\u001b[0;34m]\u001b[0m\u001b[0;34m.\u001b[0m\u001b[0mindex\u001b[0m \u001b[0;34m,\u001b[0m \u001b[0minplace\u001b[0m\u001b[0;34m=\u001b[0m\u001b[0;32mTrue\u001b[0m\u001b[0;34m)\u001b[0m\u001b[0;34m\u001b[0m\u001b[0;34m\u001b[0m\u001b[0m\n\u001b[1;32m      4\u001b[0m \u001b[0mdata\u001b[0m\u001b[0;34m.\u001b[0m\u001b[0mdrop\u001b[0m\u001b[0;34m(\u001b[0m\u001b[0mdata\u001b[0m\u001b[0;34m[\u001b[0m\u001b[0mdata\u001b[0m\u001b[0;34m[\u001b[0m\u001b[0;34m'Product'\u001b[0m\u001b[0;34m]\u001b[0m\u001b[0;34m==\u001b[0m\u001b[0;34m'Payday loan, title loan, or personal loan'\u001b[0m\u001b[0;34m]\u001b[0m\u001b[0;34m.\u001b[0m\u001b[0mindex\u001b[0m \u001b[0;34m,\u001b[0m \u001b[0minplace\u001b[0m\u001b[0;34m=\u001b[0m\u001b[0;32mTrue\u001b[0m\u001b[0;34m)\u001b[0m\u001b[0;34m\u001b[0m\u001b[0;34m\u001b[0m\u001b[0m\n\u001b[1;32m      5\u001b[0m \u001b[0mdata\u001b[0m\u001b[0;34m.\u001b[0m\u001b[0mdrop\u001b[0m\u001b[0;34m(\u001b[0m\u001b[0mdata\u001b[0m\u001b[0;34m[\u001b[0m\u001b[0mdata\u001b[0m\u001b[0;34m[\u001b[0m\u001b[0;34m'Product'\u001b[0m\u001b[0;34m]\u001b[0m\u001b[0;34m==\u001b[0m\u001b[0;34m'Payday loan'\u001b[0m\u001b[0;34m]\u001b[0m\u001b[0;34m.\u001b[0m\u001b[0mindex\u001b[0m \u001b[0;34m,\u001b[0m \u001b[0minplace\u001b[0m\u001b[0;34m=\u001b[0m\u001b[0;32mTrue\u001b[0m\u001b[0;34m)\u001b[0m\u001b[0;34m\u001b[0m\u001b[0;34m\u001b[0m\u001b[0m\n",
            "\u001b[0;31mNameError\u001b[0m: name 'data' is not defined"
          ]
        }
      ]
    },
    {
      "cell_type": "code",
      "metadata": {
        "id": "SpK0Cukpy4Cj",
        "colab_type": "code",
        "colab": {
          "base_uri": "https://localhost:8080/",
          "height": 151
        },
        "outputId": "38f250f7-f087-419e-9860-1285939cc532"
      },
      "source": [
        "data.dropna(inplace=True)\n",
        "data.info()"
      ],
      "execution_count": null,
      "outputs": [
        {
          "output_type": "stream",
          "text": [
            "<class 'pandas.core.frame.DataFrame'>\n",
            "Int64Index: 172597 entries, 1 to 903982\n",
            "Data columns (total 3 columns):\n",
            "Product        172597 non-null object\n",
            "Narrative      172597 non-null object\n",
            "category_id    172597 non-null int64\n",
            "dtypes: int64(1), object(2)\n",
            "memory usage: 5.3+ MB\n"
          ],
          "name": "stdout"
        }
      ]
    },
    {
      "cell_type": "code",
      "metadata": {
        "id": "SukhI53hAP9x",
        "colab_type": "code",
        "colab": {
          "base_uri": "https://localhost:8080/",
          "height": 464
        },
        "outputId": "15b9ac8a-e44b-4e28-bf7d-fa35020d0ff9"
      },
      "source": [
        "data['Narrative'] = data['Narrative'].str.replace('xx', '')\n",
        "data['Narrative'] = data['Narrative'].str.replace('/', '')\n",
        "data['Narrative'] = data['Narrative'].str.replace('@', '')\n",
        "data['Narrative'] = data['Narrative'].str.replace(r\"\\{.*?\\}\", '')\n",
        "data.head()"
      ],
      "execution_count": null,
      "outputs": [
        {
          "output_type": "execute_result",
          "data": {
            "text/html": [
              "<div>\n",
              "<style scoped>\n",
              "    .dataframe tbody tr th:only-of-type {\n",
              "        vertical-align: middle;\n",
              "    }\n",
              "\n",
              "    .dataframe tbody tr th {\n",
              "        vertical-align: top;\n",
              "    }\n",
              "\n",
              "    .dataframe thead th {\n",
              "        text-align: right;\n",
              "    }\n",
              "</style>\n",
              "<table border=\"1\" class=\"dataframe\">\n",
              "  <thead>\n",
              "    <tr style=\"text-align: right;\">\n",
              "      <th></th>\n",
              "      <th>Product</th>\n",
              "      <th>Narrative</th>\n",
              "      <th>category_id</th>\n",
              "    </tr>\n",
              "  </thead>\n",
              "  <tbody>\n",
              "    <tr>\n",
              "      <th>1</th>\n",
              "      <td>Credit reporting</td>\n",
              "      <td>i have outdated information on my credit report that i have previously disputed that has yet to be removed this information is more then seven years old and does not meet credit reporting requirements</td>\n",
              "      <td>0</td>\n",
              "    </tr>\n",
              "    <tr>\n",
              "      <th>2</th>\n",
              "      <td>Consumer Loan</td>\n",
              "      <td>i purchased a new car on  . the car dealer called citizens bank to get a 10 day payoff on my loan, good till  . the dealer sent the check the next day. when i balanced my checkbook on  . i noticed that citizens bank had taken the automatic payment out of my checking account at    bank. i called citizens and they stated that they did not close the loan until  . ( stating that they did not receive the check until . . ). i told them that i did not believe that the check took that long to arrive.  told me a check was issued to me for the amount overpaid, they deducted additional interest. today (  , ) i called citizens bank again and talked to a supervisor named , because on  . i received a letter that the loan had been paid in full ( dated ,  ) but no refund check was included.  stated that they hold any over payment for 10 business days after the loan was satisfied and that my check would be mailed out on wed. the .. i questioned her about the delay in posting the dealer payment and ...</td>\n",
              "      <td>1</td>\n",
              "    </tr>\n",
              "    <tr>\n",
              "      <th>7</th>\n",
              "      <td>Credit reporting</td>\n",
              "      <td>an account on my credit report has a mistaken date. i mailed in a debt validation letter to allow  to correct the information. i received a letter in the mail, stating that experian received my correspondence and found it to be \" suspicious '' and that \" i did n't write it ''. experian 's letter is worded to imply that i am incapable of writing my own letter. i was deeply offended by this implication. \\ni called experian to figure out why my letter was so suspicious. i spoke to a representative who was incredibly unhelpful, she did not effectively answer any questions i asked of her, and she kept ignoring what i was saying regarding the offensive letter and my dispute process. i feel the representative did what she wanted to do, and i am not satisfied. it is still not clear to me why i received this letter. i typed this letter, i signed this letter, and i paid to mail this letter, yet experian willfully disregarded my lawful request. \\ni am disgusted with this entire situation, and...</td>\n",
              "      <td>0</td>\n",
              "    </tr>\n",
              "    <tr>\n",
              "      <th>12</th>\n",
              "      <td>Debt collection</td>\n",
              "      <td>this company refuses to provide me verification and validation of debt per my right under the fdcpa. i do not believe this debt is mine.</td>\n",
              "      <td>2</td>\n",
              "    </tr>\n",
              "    <tr>\n",
              "      <th>16</th>\n",
              "      <td>Debt collection</td>\n",
              "      <td>this complaint is in regards to square two financial. refer to cfpb case number  regarding cach, l. l. c. square two financial has utilized my entire social security number to include date of birth on the pfd document listed with this complaint. the initial complaint was with cach, l. l. c. and not square two financial. this is in breach of the following : 1. identity theft assumption and deterrence act of  2. privacy act of  . social security  4.  privacy act-which carries a maximum  fine for each calendar cap year. \\n5. breach of title ,     under  and  the solution is to have cach, l.l.c handle this correction and not square two financial. two square financial submitted the    with their subscriber name on the form listed on cfpb case #  they are rendered liable in this matter. in addition, there is an account number associated with this universal data form and they could use that account number instead of a ssn and dob which is against    this is also includes removal of the   ...</td>\n",
              "      <td>2</td>\n",
              "    </tr>\n",
              "  </tbody>\n",
              "</table>\n",
              "</div>"
            ],
            "text/plain": [
              "             Product  ... category_id\n",
              "1   Credit reporting  ...           0\n",
              "2      Consumer Loan  ...           1\n",
              "7   Credit reporting  ...           0\n",
              "12   Debt collection  ...           2\n",
              "16   Debt collection  ...           2\n",
              "\n",
              "[5 rows x 3 columns]"
            ]
          },
          "metadata": {
            "tags": []
          },
          "execution_count": 30
        }
      ]
    },
    {
      "cell_type": "code",
      "metadata": {
        "id": "h4iEflNnwpzK",
        "colab_type": "code",
        "colab": {
          "base_uri": "https://localhost:8080/",
          "height": 517
        },
        "outputId": "9bc2bcaf-987e-45b5-b72e-e616e74cfc68"
      },
      "source": [
        "import matplotlib.pyplot as plt\n",
        "fig = plt.figure(figsize=(10,6))\n",
        "data.groupby('Product').Narrative.count().plot.bar(ylim=0)\n",
        "plt.show()\n",
        "print(\"Shape of data{}\".format(data.shape))"
      ],
      "execution_count": null,
      "outputs": [
        {
          "output_type": "display_data",
          "data": {
            "image/png": "[encoded data removed]",
            "text/plain": [
              "<Figure size 720x432 with 1 Axes>"
            ]
          },
          "metadata": {
            "tags": []
          }
        },
        {
          "output_type": "stream",
          "text": [
            "Shape of data(172597, 3)\n"
          ],
          "name": "stdout"
        }
      ]
    },
    {
      "cell_type": "code",
      "metadata": {
        "id": "AXKDSiLAERs6",
        "colab_type": "code",
        "colab": {
          "base_uri": "https://localhost:8080/",
          "height": 67
        },
        "outputId": "233e7954-95c6-4344-aa27-0f66bcad5b08"
      },
      "source": [
        "data['Product'].unique()"
      ],
      "execution_count": null,
      "outputs": [
        {
          "output_type": "execute_result",
          "data": {
            "text/plain": [
              "array(['Credit reporting', 'Consumer Loan', 'Debt collection', 'Mortgage',\n",
              "       'Credit card', 'Bank account or service', 'Student loan'],\n",
              "      dtype=object)"
            ]
          },
          "metadata": {
            "tags": []
          },
          "execution_count": 32
        }
      ]
    },
    {
      "cell_type": "code",
      "metadata": {
        "id": "td_lcmC9DpST",
        "colab_type": "code",
        "colab": {}
      },
      "source": [
        "import random\n",
        "for i in range(38300):\n",
        "  temp_data=data[data['Product']=='Debt collection'].index\n",
        "  data.drop(random.choice(temp_data), inplace=True)\n",
        "  \n",
        "for i in range(27000):\n",
        "  temp_data=data[data['Product']=='Mortgage'].index\n",
        "  data.drop(random.choice(temp_data), inplace=True)\n",
        "\n",
        "for i in range(21600):\n",
        "  temp_data=data[data['Product']=='Credit reporting'].index\n",
        "  data.drop(random.choice(temp_data), inplace=True)\n",
        "\n",
        "for i in range(5000):\n",
        "  temp_data=data[data['Product']=='Bank account or service'].index\n",
        "  data.drop(random.choice(temp_data), inplace=True)\n",
        "\n",
        "for i in range(9000):\n",
        "  temp_data=data[data['Product']=='Credit card'].index\n",
        "  data.drop(random.choice(temp_data), inplace=True)\n",
        "\n",
        "for i in range(3500):\n",
        "  temp_data=data[data['Product']=='Student loan'].index\n",
        "  data.drop(random.choice(temp_data), inplace=True)"
      ],
      "execution_count": null,
      "outputs": []
    },
    {
      "cell_type": "code",
      "metadata": {
        "id": "CXKgsM8rDeeY",
        "colab_type": "code",
        "colab": {
          "base_uri": "https://localhost:8080/",
          "height": 515
        },
        "outputId": "f351a5fb-e36d-4595-d92a-2cc53f01032f"
      },
      "source": [
        "fig = plt.figure(figsize=(8,6))\n",
        "data.groupby('Product').Narrative.count().plot.bar(ylim=0)\n",
        "plt.show()\n",
        "print(\"Shape of data{}\".format(data.shape))"
      ],
      "execution_count": null,
      "outputs": [
        {
          "output_type": "display_data",
          "data": {
            "image/png": "[encoded data removed]",
            "text/plain": [
              "<Figure size 576x432 with 1 Axes>"
            ]
          },
          "metadata": {
            "tags": []
          }
        },
        {
          "output_type": "stream",
          "text": [
            "Shape of data(68197, 3)\n"
          ],
          "name": "stdout"
        }
      ]
    },
    {
      "cell_type": "code",
      "metadata": {
        "id": "5PEITld94ZqT",
        "colab_type": "code",
        "colab": {
          "base_uri": "https://localhost:8080/",
          "height": 151
        },
        "outputId": "2912b180-3119-45d3-9e02-9e6379f093f5"
      },
      "source": [
        "data.info()"
      ],
      "execution_count": null,
      "outputs": [
        {
          "output_type": "stream",
          "text": [
            "<class 'pandas.core.frame.DataFrame'>\n",
            "Int64Index: 68197 entries, 2 to 903973\n",
            "Data columns (total 3 columns):\n",
            "Product        68197 non-null object\n",
            "Narrative      68197 non-null object\n",
            "category_id    68197 non-null int64\n",
            "dtypes: int64(1), object(2)\n",
            "memory usage: 2.1+ MB\n"
          ],
          "name": "stdout"
        }
      ]
    },
    {
      "cell_type": "code",
      "metadata": {
        "id": "vGPn2ajN-Q5x",
        "colab_type": "code",
        "colab": {}
      },
      "source": [
        "data.to_csv('clean_dataset_final.csv')"
      ],
      "execution_count": null,
      "outputs": []
    },
    {
      "cell_type": "code",
      "metadata": {
        "id": "WlqT4YB_zBzC",
        "colab_type": "code",
        "colab": {
          "base_uri": "https://localhost:8080/",
          "height": 121
        },
        "outputId": "c43cca1b-b82f-4913-bb33-2677121f046b"
      },
      "source": [
        "from google.colab import drive\n",
        "drive.mount('drive')"
      ],
      "execution_count": null,
      "outputs": [
        {
          "output_type": "stream",
          "text": [
            "Go to this URL in a browser: https://accounts.google.com/o/oauth2/auth?client_id=947318989803-6bn6qk8qdgf4n4g3pfee6491hc0brc4i.apps.googleusercontent.com&redirect_uri=urn%3aietf%3awg%3aoauth%3a2.0%3aoob&response_type=code&scope=email%20https%3a%2f%2fwww.googleapis.com%2fauth%2fdocs.test%20https%3a%2f%2fwww.googleapis.com%2fauth%2fdrive%20https%3a%2f%2fwww.googleapis.com%2fauth%2fdrive.photos.readonly%20https%3a%2f%2fwww.googleapis.com%2fauth%2fpeopleapi.readonly\n",
            "\n",
            "Enter your authorization code:\n",
            "··········\n",
            "Mounted at drive\n"
          ],
          "name": "stdout"
        }
      ]
    },
    {
      "cell_type": "code",
      "metadata": {
        "id": "Ka_yr6wZqIXm",
        "colab_type": "code",
        "colab": {}
      },
      "source": [
        "data.to_csv('clean_dataset_final.csv')\n",
        "!cp clean_dataset_final.csv drive/My\\ Drive/"
      ],
      "execution_count": null,
      "outputs": []
    },
    {
      "cell_type": "code",
      "metadata": {
        "id": "oyeLBEX6-3Jh",
        "colab_type": "code",
        "colab": {}
      },
      "source": [
        ""
      ],
      "execution_count": null,
      "outputs": []
    }
  ]
}